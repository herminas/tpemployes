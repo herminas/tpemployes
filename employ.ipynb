{
 "cells": [
  {
   "cell_type": "code",
   "execution_count": null,
   "id": "a3459bba",
   "metadata": {},
   "outputs": [
    {
     "data": {
      "text/html": [
       "<div>\n",
       "<style scoped>\n",
       "    .dataframe tbody tr th:only-of-type {\n",
       "        vertical-align: middle;\n",
       "    }\n",
       "\n",
       "    .dataframe tbody tr th {\n",
       "        vertical-align: top;\n",
       "    }\n",
       "\n",
       "    .dataframe thead th {\n",
       "        text-align: right;\n",
       "    }\n",
       "</style>\n",
       "<table border=\"1\" class=\"dataframe\">\n",
       "  <thead>\n",
       "    <tr style=\"text-align: right;\">\n",
       "      <th></th>\n",
       "      <th>ID</th>\n",
       "      <th>Nom</th>\n",
       "      <th>Prénom</th>\n",
       "      <th>Âge</th>\n",
       "      <th>Sexe</th>\n",
       "      <th>Email</th>\n",
       "      <th>Pays</th>\n",
       "      <th>Ville</th>\n",
       "      <th>Salaire (€)</th>\n",
       "      <th>Date d'embauche</th>\n",
       "      <th>Département</th>\n",
       "      <th>Télétravail (%)</th>\n",
       "      <th>Performance (Note)</th>\n",
       "    </tr>\n",
       "  </thead>\n",
       "  <tbody>\n",
       "    <tr>\n",
       "      <th>0</th>\n",
       "      <td>1</td>\n",
       "      <td>Richard</td>\n",
       "      <td>Stacey</td>\n",
       "      <td>62</td>\n",
       "      <td>Homme</td>\n",
       "      <td>lgonzalez@crawford.org</td>\n",
       "      <td>Trinidad and Tobago</td>\n",
       "      <td>New Devinview</td>\n",
       "      <td>54564.0</td>\n",
       "      <td>2023-09-30</td>\n",
       "      <td>Finance</td>\n",
       "      <td>0.0</td>\n",
       "      <td>2.0</td>\n",
       "    </tr>\n",
       "    <tr>\n",
       "      <th>1</th>\n",
       "      <td>2</td>\n",
       "      <td>Chang</td>\n",
       "      <td>Loretta</td>\n",
       "      <td>65</td>\n",
       "      <td>Homme</td>\n",
       "      <td>rebeccabrown@hotmail.com</td>\n",
       "      <td>Netherlands</td>\n",
       "      <td>Lake Rebecca</td>\n",
       "      <td>23393.0</td>\n",
       "      <td>2023-10-14</td>\n",
       "      <td>Informatique</td>\n",
       "      <td>0.0</td>\n",
       "      <td>2.0</td>\n",
       "    </tr>\n",
       "    <tr>\n",
       "      <th>2</th>\n",
       "      <td>3</td>\n",
       "      <td>Fisher</td>\n",
       "      <td>Kimberly</td>\n",
       "      <td>18</td>\n",
       "      <td>Homme</td>\n",
       "      <td>waynebarnes@schultz-sims.org</td>\n",
       "      <td>Oman</td>\n",
       "      <td>Alexanderfort</td>\n",
       "      <td>62711.0</td>\n",
       "      <td>2017-08-24</td>\n",
       "      <td>Finance</td>\n",
       "      <td>60.0</td>\n",
       "      <td>1.0</td>\n",
       "    </tr>\n",
       "    <tr>\n",
       "      <th>3</th>\n",
       "      <td>4</td>\n",
       "      <td>Green</td>\n",
       "      <td>Julie</td>\n",
       "      <td>21</td>\n",
       "      <td>Homme</td>\n",
       "      <td>morgandevon@burgess.com</td>\n",
       "      <td>Moldova</td>\n",
       "      <td>Alexanderville</td>\n",
       "      <td>52274.0</td>\n",
       "      <td>2022-06-09</td>\n",
       "      <td>RH</td>\n",
       "      <td>100.0</td>\n",
       "      <td>1.0</td>\n",
       "    </tr>\n",
       "    <tr>\n",
       "      <th>4</th>\n",
       "      <td>5</td>\n",
       "      <td>Dixon</td>\n",
       "      <td>Jacob</td>\n",
       "      <td>21</td>\n",
       "      <td>Homme</td>\n",
       "      <td>elliskaren@gmail.com</td>\n",
       "      <td>Dominican Republic</td>\n",
       "      <td>East Darren</td>\n",
       "      <td>108305.0</td>\n",
       "      <td>2018-08-02</td>\n",
       "      <td>Informatique</td>\n",
       "      <td>0.0</td>\n",
       "      <td>3.0</td>\n",
       "    </tr>\n",
       "    <tr>\n",
       "      <th>5</th>\n",
       "      <td>6</td>\n",
       "      <td>Sullivan</td>\n",
       "      <td>Ana</td>\n",
       "      <td>57</td>\n",
       "      <td>Femme</td>\n",
       "      <td>afranklin@hotmail.com</td>\n",
       "      <td>Iceland</td>\n",
       "      <td>South Benjamin</td>\n",
       "      <td>33920.0</td>\n",
       "      <td>2019-05-26</td>\n",
       "      <td>RH</td>\n",
       "      <td>20.0</td>\n",
       "      <td>4.0</td>\n",
       "    </tr>\n",
       "    <tr>\n",
       "      <th>6</th>\n",
       "      <td>7</td>\n",
       "      <td>Bowers</td>\n",
       "      <td>Rodney</td>\n",
       "      <td>27</td>\n",
       "      <td>Femme</td>\n",
       "      <td>rmiranda@hess.com</td>\n",
       "      <td>Congo</td>\n",
       "      <td>Dawsonland</td>\n",
       "      <td>98086.0</td>\n",
       "      <td>2016-09-28</td>\n",
       "      <td>RH</td>\n",
       "      <td>20.0</td>\n",
       "      <td>4.0</td>\n",
       "    </tr>\n",
       "    <tr>\n",
       "      <th>7</th>\n",
       "      <td>8</td>\n",
       "      <td>Turner</td>\n",
       "      <td>Stephanie</td>\n",
       "      <td>37</td>\n",
       "      <td>Homme</td>\n",
       "      <td>uphillips@cohen.com</td>\n",
       "      <td>Palau</td>\n",
       "      <td>West Tiffany</td>\n",
       "      <td>25213.0</td>\n",
       "      <td>2024-06-07</td>\n",
       "      <td>Logistique</td>\n",
       "      <td>NaN</td>\n",
       "      <td>4.0</td>\n",
       "    </tr>\n",
       "    <tr>\n",
       "      <th>8</th>\n",
       "      <td>9</td>\n",
       "      <td>Woods</td>\n",
       "      <td>Glenn</td>\n",
       "      <td>39</td>\n",
       "      <td>Homme</td>\n",
       "      <td>reidwilliam@hotmail.com</td>\n",
       "      <td>Slovakia (Slovak Republic)</td>\n",
       "      <td>New Jessica</td>\n",
       "      <td>51914.0</td>\n",
       "      <td>2025-03-06</td>\n",
       "      <td>Production</td>\n",
       "      <td>40.0</td>\n",
       "      <td>1.0</td>\n",
       "    </tr>\n",
       "    <tr>\n",
       "      <th>9</th>\n",
       "      <td>10</td>\n",
       "      <td>Silva</td>\n",
       "      <td>Geoffrey</td>\n",
       "      <td>68</td>\n",
       "      <td>Homme</td>\n",
       "      <td>williamsalexis@beasley.biz</td>\n",
       "      <td>Hungary</td>\n",
       "      <td>Lake Rebecca</td>\n",
       "      <td>119041.0</td>\n",
       "      <td>2024-12-27</td>\n",
       "      <td>Finance</td>\n",
       "      <td>80.0</td>\n",
       "      <td>5.0</td>\n",
       "    </tr>\n",
       "  </tbody>\n",
       "</table>\n",
       "</div>"
      ],
      "text/plain": [
       "   ID       Nom     Prénom  Âge   Sexe                         Email  \\\n",
       "0   1   Richard     Stacey   62  Homme        lgonzalez@crawford.org   \n",
       "1   2     Chang    Loretta   65  Homme      rebeccabrown@hotmail.com   \n",
       "2   3    Fisher   Kimberly   18  Homme  waynebarnes@schultz-sims.org   \n",
       "3   4     Green      Julie   21  Homme       morgandevon@burgess.com   \n",
       "4   5     Dixon      Jacob   21  Homme          elliskaren@gmail.com   \n",
       "5   6  Sullivan        Ana   57  Femme         afranklin@hotmail.com   \n",
       "6   7    Bowers     Rodney   27  Femme             rmiranda@hess.com   \n",
       "7   8    Turner  Stephanie   37  Homme           uphillips@cohen.com   \n",
       "8   9     Woods      Glenn   39  Homme       reidwilliam@hotmail.com   \n",
       "9  10     Silva   Geoffrey   68  Homme    williamsalexis@beasley.biz   \n",
       "\n",
       "                         Pays           Ville  Salaire (€) Date d'embauche  \\\n",
       "0         Trinidad and Tobago   New Devinview      54564.0      2023-09-30   \n",
       "1                 Netherlands    Lake Rebecca      23393.0      2023-10-14   \n",
       "2                        Oman   Alexanderfort      62711.0      2017-08-24   \n",
       "3                     Moldova  Alexanderville      52274.0      2022-06-09   \n",
       "4          Dominican Republic     East Darren     108305.0      2018-08-02   \n",
       "5                     Iceland  South Benjamin      33920.0      2019-05-26   \n",
       "6                       Congo      Dawsonland      98086.0      2016-09-28   \n",
       "7                       Palau    West Tiffany      25213.0      2024-06-07   \n",
       "8  Slovakia (Slovak Republic)     New Jessica      51914.0      2025-03-06   \n",
       "9                     Hungary    Lake Rebecca     119041.0      2024-12-27   \n",
       "\n",
       "    Département  Télétravail (%)  Performance (Note)  \n",
       "0       Finance              0.0                 2.0  \n",
       "1  Informatique              0.0                 2.0  \n",
       "2       Finance             60.0                 1.0  \n",
       "3            RH            100.0                 1.0  \n",
       "4  Informatique              0.0                 3.0  \n",
       "5            RH             20.0                 4.0  \n",
       "6            RH             20.0                 4.0  \n",
       "7    Logistique              NaN                 4.0  \n",
       "8    Production             40.0                 1.0  \n",
       "9       Finance             80.0                 5.0  "
      ]
     },
     "execution_count": 1,
     "metadata": {},
     "output_type": "execute_result"
    }
   ],
   "source": [
    "import pandas as pd\n",
    "\n",
    "# Charger le fichier Excel\n",
    "df = pd.read_excel(\"employes_dataset.xlsx\")\n",
    "\n",
    "# 1 Afficher les 10 premières lignes\n",
    "df.head(10)\n"
   ]
  },
  {
   "cell_type": "code",
   "execution_count": null,
   "id": "14085874",
   "metadata": {},
   "outputs": [
    {
     "name": "stdout",
     "output_type": "stream",
     "text": [
      "Index(['ID', 'Nom', 'Prénom', 'Âge', 'Sexe', 'Email', 'Pays', 'Ville',\n",
      "       'Salaire (€)', 'Date d'embauche', 'Département', 'Télétravail (%)',\n",
      "       'Performance (Note)'],\n",
      "      dtype='object')\n"
     ]
    }
   ],
   "source": [
    "# 2. Afficher les noms des colonnes\n",
    "print(df.columns)"
   ]
  },
  {
   "cell_type": "code",
   "execution_count": null,
   "id": "b679092b",
   "metadata": {},
   "outputs": [
    {
     "name": "stdout",
     "output_type": "stream",
     "text": [
      "['Homme' 'Femme']\n",
      "Nombre d'hommes : 487\n",
      "Nombre de femmes : 513\n"
     ]
    }
   ],
   "source": [
    "# 3. Compter le nombre d’hommes et de femmes.\n",
    "\n",
    "import pandas as pd\n",
    "\n",
    "# Charger le fichier Excel\n",
    "df = pd.read_excel(\"employes_dataset.xlsx\")\n",
    "\n",
    "print(df[\"Sexe\"].unique())  # Remplace \"Sexe\" par le bon nom si nécessaire\n",
    "# Normaliser la colonne \"Sexe\" en minuscule et sans espaces\n",
    "df[\"Sexe\"] = df[\"Sexe\"].str.strip().str.lower()\n",
    "\n",
    "# Remplacer les abréviations\n",
    "df[\"Sexe\"] = df[\"Sexe\"].replace({\"h\": \"homme\", \"m\": \"femme\"})\n",
    "\n",
    "# Compter le nombre d'hommes et de femmes\n",
    "nb_hommes = (df[\"Sexe\"] == \"homme\").sum()\n",
    "nb_femmes = (df[\"Sexe\"] == \"femme\").sum()\n",
    "\n",
    "print(f\"Nombre d'hommes : {nb_hommes}\")\n",
    "print(f\"Nombre de femmes : {nb_femmes}\")"
   ]
  },
  {
   "cell_type": "code",
   "execution_count": 8,
   "id": "b89b49e1",
   "metadata": {},
   "outputs": [
    {
     "name": "stdout",
     "output_type": "stream",
     "text": [
      "['Trinidad and Tobago' 'Netherlands' 'Oman' 'Moldova' 'Dominican Republic'\n",
      " 'Iceland' 'Congo' 'Palau' 'Slovakia (Slovak Republic)' 'Hungary'\n",
      " 'Vietnam' 'Bhutan' 'Christmas Island' 'Tokelau' 'Equatorial Guinea'\n",
      " 'Tanzania' 'Bolivia' 'Finland' 'Chile' 'Togo' 'Burkina Faso' 'Montserrat'\n",
      " 'Saint Pierre and Miquelon' 'Tonga' 'Korea' 'Isle of Man' 'Israel'\n",
      " 'Venezuela' 'Djibouti' 'Sweden' 'Tajikistan' 'Switzerland' 'Sri Lanka'\n",
      " 'Belgium' 'Saint Lucia' 'Bermuda' 'United Kingdom' 'Japan' 'Ghana'\n",
      " 'Gambia' 'Uruguay' 'Luxembourg' 'Sao Tome and Principe' 'Guatemala'\n",
      " 'Iraq' 'Latvia' 'Indonesia' 'Egypt' 'Antigua and Barbuda' 'Brazil'\n",
      " 'Gibraltar' 'Mali' 'Austria' 'Germany' 'Gabon' 'Greece' 'Liechtenstein'\n",
      " 'Belarus' 'New Zealand' 'Brunei Darussalam' 'New Caledonia' 'Romania'\n",
      " 'Bosnia and Herzegovina' 'India' 'Afghanistan' 'French Polynesia'\n",
      " 'Georgia' 'Italy' 'Falkland Islands (Malvinas)' 'Bahrain' 'Qatar'\n",
      " 'American Samoa' 'Czech Republic' 'France' 'Micronesia' 'Angola'\n",
      " 'Barbados' 'Svalbard & Jan Mayen Islands' 'Rwanda' 'Madagascar' 'Namibia'\n",
      " 'Ethiopia' 'Cape Verde' 'Costa Rica' 'Dominica' 'Belize'\n",
      " 'Turks and Caicos Islands' 'Cyprus' 'Kyrgyz Republic' 'Bangladesh'\n",
      " 'Saudi Arabia' 'Bulgaria' 'Guinea' 'Tunisia'\n",
      " 'South Georgia and the South Sandwich Islands' 'Jamaica' 'Zambia'\n",
      " 'Hong Kong' 'Pakistan' 'Grenada' 'Turkey' 'Singapore' 'Norway' 'Albania'\n",
      " 'Serbia' 'Swaziland' 'Jordan' 'Cuba' 'Fiji' 'Maldives' 'Somalia'\n",
      " 'Slovenia' 'Netherlands Antilles' \"Lao People's Democratic Republic\"\n",
      " 'Philippines' 'Sudan' 'Ireland' 'Suriname' 'Pitcairn Islands' 'Chad'\n",
      " 'Syrian Arab Republic' 'Nicaragua'\n",
      " 'Antarctica (the territory South of 60 deg S)' 'Nigeria'\n",
      " 'Palestinian Territory' 'Argentina' 'Denmark' 'China' 'Norfolk Island'\n",
      " 'Montenegro' 'Thailand' 'Poland' 'Solomon Islands'\n",
      " 'British Indian Ocean Territory (Chagos Archipelago)' 'Lebanon' 'Nauru'\n",
      " 'United States Minor Outlying Islands' 'Panama' 'Honduras'\n",
      " 'Saint Vincent and the Grenadines' 'Australia' 'Yemen' 'Botswana'\n",
      " 'Sierra Leone' 'Estonia' 'Reunion' 'Andorra' 'French Guiana'\n",
      " 'Central African Republic' 'Northern Mariana Islands' 'Canada'\n",
      " 'Bouvet Island (Bouvetoya)' 'Libyan Arab Jamahiriya'\n",
      " 'Holy See (Vatican City State)' 'United States of America' 'Mongolia'\n",
      " 'Niger' 'Senegal' 'Anguilla' 'Timor-Leste' 'Zimbabwe' 'Mauritius' 'Benin'\n",
      " \"Cote d'Ivoire\" 'Papua New Guinea' 'Spain' 'Macao' 'Vanuatu' 'Tuvalu'\n",
      " 'Wallis and Futuna' 'Croatia' 'Lithuania' 'South Africa' 'Comoros'\n",
      " 'Mayotte' 'Burundi' 'Morocco' 'Kazakhstan' 'Colombia' 'Lesotho'\n",
      " 'Faroe Islands' 'Samoa' 'Ukraine' 'Cameroon' 'Kenya' 'Cook Islands'\n",
      " 'Jersey' 'El Salvador' 'Greenland' 'Western Sahara' 'Liberia'\n",
      " 'Cocos (Keeling) Islands' 'Mauritania' 'Saint Barthelemy' 'Turkmenistan'\n",
      " 'Portugal' 'Uganda' 'Malawi' 'French Southern Territories' 'Mozambique'\n",
      " 'Bahamas' 'Paraguay' 'Armenia' 'United States Virgin Islands' 'Myanmar'\n",
      " 'Guinea-Bissau' 'San Marino' 'Taiwan' 'Malaysia' 'Guam' 'Saint Martin'\n",
      " 'United Arab Emirates' 'Mexico' 'Haiti' 'Seychelles' 'Ecuador' 'Guernsey'\n",
      " 'Eritrea' 'Peru' 'Aruba' 'Russian Federation' 'Kuwait'\n",
      " 'British Virgin Islands' 'Macedonia' 'Guadeloupe' 'Monaco' 'Malta'\n",
      " 'Guyana' 'Nepal' 'Martinique' 'Saint Kitts and Nevis' 'Algeria'\n",
      " 'Puerto Rico' 'Marshall Islands' 'Niue'\n",
      " 'Heard Island and McDonald Islands' 'Saint Helena']\n",
      "Les 5 pays les plus représentés sont :\n",
      "Pays\n",
      "Madagascar     10\n",
      "Finland        10\n",
      "Tajikistan     10\n",
      "Congo          10\n",
      "New Zealand    10\n",
      "Name: count, dtype: int64\n"
     ]
    }
   ],
   "source": [
    "# 4. Identifier les 5 pays les plus représentés.\n",
    "\n",
    "import pandas as pd\n",
    "\n",
    "# Charger le fichier Excel\n",
    "df = pd.read_excel(\"employes_dataset.xlsx\")\n",
    "\n",
    "# Vérifier les valeurs uniques de la colonne \"Pays\"\n",
    "print(df[\"Pays\"].unique())  # Remplace \"Pays\" si le nom est différent\n",
    "\n",
    "# Compter le nombre d'occurrences par pays et afficher les 5 premiers\n",
    "top_5_pays = df[\"Pays\"].value_counts().head(5)\n",
    "\n",
    "print(\"Les 5 pays les plus représentés sont :\")\n",
    "print(top_5_pays)\n",
    "\n"
   ]
  },
  {
   "cell_type": "code",
   "execution_count": 12,
   "id": "19c181e3",
   "metadata": {},
   "outputs": [
    {
     "name": "stdout",
     "output_type": "stream",
     "text": [
      "0     54564.0\n",
      "1     23393.0\n",
      "2     62711.0\n",
      "3     52274.0\n",
      "4    108305.0\n",
      "Name: Salaire (€), dtype: float64\n",
      "Salaire moyen : 69101.74 €\n",
      "Salaire médian : 69518.50 €\n",
      "Salaire minimum : 18107.00 €\n",
      "Salaire maximum : 119836.00 €\n",
      "Écart-type du salaire : 29703.03 €\n"
     ]
    }
   ],
   "source": [
    "# 5. Calculer le salaire moyen, médian, minimum, maximum et l’écart-type à l’aide de NumPy.\n",
    "\n",
    "import pandas as pd\n",
    "import numpy as np\n",
    "\n",
    "# Charger le fichier Excel\n",
    "df = pd.read_excel(\"employes_dataset.xlsx\")\n",
    "\n",
    "# Vérifier les 5 premières valeurs de la colonne \"Salaire\"\n",
    "print(df[\"Salaire (€)\"].head())\n",
    "\n",
    "# Convertir la colonne \"Salaire (€)\" en nombre (si elle contient du texte)\n",
    "df[\"Salaire (€)\"] = pd.to_numeric(df[\"Salaire (€)\"], errors='coerce')\n",
    "\n",
    "# Supprimer les valeurs manquantes (si nécessaire)\n",
    "df = df.dropna(subset=[\"Salaire (€)\"])\n",
    "\n",
    "# Calculer les statistiques avec NumPy\n",
    "salaire_moyen = np.mean(df[\"Salaire (€)\"])\n",
    "salaire_median = np.median(df[\"Salaire (€)\"])\n",
    "salaire_min = np.min(df[\"Salaire (€)\"])\n",
    "salaire_max = np.max(df[\"Salaire (€)\"])\n",
    "salaire_ecart_type = np.std(df[\"Salaire (€)\"])\n",
    "\n",
    "# Afficher les résultats\n",
    "print(f\"Salaire moyen : {salaire_moyen:.2f} €\")\n",
    "print(f\"Salaire médian : {salaire_median:.2f} €\")\n",
    "print(f\"Salaire minimum : {salaire_min:.2f} €\")\n",
    "print(f\"Salaire maximum : {salaire_max:.2f} €\")\n",
    "print(f\"Écart-type du salaire : {salaire_ecart_type:.2f} €\")"
   ]
  },
  {
   "cell_type": "code",
   "execution_count": 13,
   "id": "d45f8ed0",
   "metadata": {},
   "outputs": [
    {
     "name": "stdout",
     "output_type": "stream",
     "text": [
      "Département\n",
      "Finance         42.560694\n",
      "Informatique    43.681529\n",
      "Logistique      41.757764\n",
      "Marketing       43.187500\n",
      "Production      44.198795\n",
      "RH              44.131148\n",
      "Name: Âge, dtype: float64\n"
     ]
    }
   ],
   "source": [
    "# 6. Donner l’âge moyen par département.\n",
    "\n",
    "import pandas as pd\n",
    "\n",
    "# Charger le fichier Excel\n",
    "df = pd.read_excel(\"employes_dataset.xlsx\")\n",
    "\n",
    "# Vérifier si la colonne \"Âge\" est bien numérique\n",
    "df[\"Âge\"] = pd.to_numeric(df[\"Âge\"], errors='coerce')\n",
    "\n",
    "# Supprimer les valeurs manquantes\n",
    "df = df.dropna(subset=[\"Âge\"])\n",
    "\n",
    "# Calculer l'âge moyen par département\n",
    "age_moyen_par_departement = df.groupby(\"Département\")[\"Âge\"].mean()\n",
    "\n",
    "# Afficher les résultats\n",
    "print(age_moyen_par_departement)\n"
   ]
  },
  {
   "cell_type": "code",
   "execution_count": null,
   "id": "b9df4ed5",
   "metadata": {},
   "outputs": [
    {
     "name": "stdout",
     "output_type": "stream",
     "text": [
      "Ville avec le plus d'employés :\n",
      "Ville\n",
      "New Devinview    2\n",
      "Name: count, dtype: int64\n"
     ]
    }
   ],
   "source": [
    "# 7. Trouver la ville ayant le plus grand nombre d’employés.\n",
    "\n",
    "import pandas as pd\n",
    "\n",
    "# Charger le fichier Excel\n",
    "df = pd.read_excel(\"employes_dataset.xlsx\")\n",
    "\n",
    "# Compter le nombre d'employés par ville et récupérer la ville avec le max\n",
    "ville_max = df[\"Ville\"].value_counts().head(1)\n",
    "\n",
    "# Afficher la ville et son nombre d'employés\n",
    "print(\"Ville avec le plus d'employés :\")\n",
    "print(ville_max)\n"
   ]
  },
  {
   "cell_type": "code",
   "execution_count": 15,
   "id": "eef2b600",
   "metadata": {},
   "outputs": [
    {
     "name": "stdout",
     "output_type": "stream",
     "text": [
      "Les 10 employés les mieux payés :\n",
      "          Nom  Salaire (€)\n",
      "189     Allen     119836.0\n",
      "817  Mitchell     119834.0\n",
      "539   Fischer     119810.0\n",
      "714    Spears     119790.0\n",
      "384     Berry     119664.0\n",
      "129     Clark     119643.0\n",
      "81    Leblanc     119637.0\n",
      "178    Howard     119515.0\n",
      "487    Garcia     119376.0\n",
      "141  Williams     119272.0\n"
     ]
    }
   ],
   "source": [
    "# 8. Lister les 10 employés les mieux payés\n",
    "\n",
    "import pandas as pd\n",
    "\n",
    "# Charger le fichier Excel\n",
    "df = pd.read_excel(\"employes_dataset.xlsx\")\n",
    "\n",
    "# Convertir la colonne \"Salaire (€)\" en numérique (au cas où elle contient des caractères spéciaux)\n",
    "df[\"Salaire (€)\"] = pd.to_numeric(df[\"Salaire (€)\"], errors='coerce')\n",
    "\n",
    "# Supprimer les valeurs manquantes\n",
    "df = df.dropna(subset=[\"Salaire (€)\"])\n",
    "\n",
    "# Trier les employés par salaire décroissant et afficher les 10 premiers\n",
    "top_10_salaries = df.sort_values(by=\"Salaire (€)\", ascending=False).head(10)\n",
    "\n",
    "# Afficher les employés les mieux payés\n",
    "print(\"Les 10 employés les mieux payés :\")\n",
    "print(top_10_salaries[[\"Nom\", \"Salaire (€)\"]])  # Remplace \"Nom\" par la colonne correcte\n"
   ]
  },
  {
   "cell_type": "code",
   "execution_count": 16,
   "id": "2f46a84d",
   "metadata": {},
   "outputs": [
    {
     "name": "stdout",
     "output_type": "stream",
     "text": [
      "Nombre d'employés hommes et femmes par département :\n",
      "Sexe          Femme  Homme\n",
      "Département               \n",
      "Finance          91     82\n",
      "Informatique     81     76\n",
      "Logistique       89     72\n",
      "Marketing        74     86\n",
      "Production       88     78\n",
      "RH               90     93\n"
     ]
    }
   ],
   "source": [
    "# 9. Calculer le nombre d’employés par département et par sexe.\n",
    "\n",
    "import pandas as pd\n",
    "\n",
    "# Charger le fichier Excel\n",
    "df = pd.read_excel(\"employes_dataset.xlsx\")\n",
    "\n",
    "# Créer un tableau pivot pour compter les hommes et femmes par département\n",
    "pivot_sexe_departement = df.pivot_table(index=\"Département\", columns=\"Sexe\", aggfunc=\"size\", fill_value=0)\n",
    "\n",
    "# Afficher le résultat\n",
    "print(\"Nombre d'employés hommes et femmes par département :\")\n",
    "print(pivot_sexe_departement)"
   ]
  },
  {
   "cell_type": "code",
   "execution_count": 1,
   "id": "abff5b45",
   "metadata": {},
   "outputs": [
    {
     "data": {
      "image/png": "[encoded data removed]",
      "text/plain": [
       "<Figure size 1000x600 with 1 Axes>"
      ]
     },
     "metadata": {},
     "output_type": "display_data"
    }
   ],
   "source": [
    "# 10. Générer un graphique montrant la distribution des âges.\n",
    "\n",
    "import pandas as pd\n",
    "import matplotlib.pyplot as plt\n",
    "import seaborn as sns\n",
    "\n",
    "# Charger le fichier Excel\n",
    "df = pd.read_excel(\"employes_dataset.xlsx\")\n",
    "\n",
    "# Vérifier si la colonne \"Âge\" est numérique et la convertir si nécessaire\n",
    "df[\"Âge\"] = pd.to_numeric(df[\"Âge\"], errors='coerce')\n",
    "\n",
    "# Supprimer les valeurs manquantes\n",
    "df = df.dropna(subset=[\"Âge\"])\n",
    "\n",
    "# Créer le graphique de la distribution des âges\n",
    "plt.figure(figsize=(10, 6))  # Définir la taille du graphique\n",
    "sns.histplot(df[\"Âge\"], kde=True, bins=20, color='blue')  # Histogramme avec courbe de densité\n",
    "\n",
    "# Ajouter des titres et des étiquettes\n",
    "plt.title(\"Distribution des âges des employés\", fontsize=16)\n",
    "plt.xlabel(\"Âge\", fontsize=12)\n",
    "plt.ylabel(\"Fréquence\", fontsize=12)\n",
    "\n",
    "# Afficher le graphique\n",
    "plt.show()\n",
    "\n"
   ]
  },
  {
   "cell_type": "code",
   "execution_count": 18,
   "id": "e3b14030",
   "metadata": {},
   "outputs": [
    {
     "name": "stdout",
     "output_type": "stream",
     "text": [
      "Index(['ID', 'Nom', 'Prénom', 'Âge', 'Sexe', 'Email', 'Pays', 'Ville',\n",
      "       'Salaire (€)', 'Date d'embauche', 'Département', 'Télétravail (%)',\n",
      "       'Performance (Note)'],\n",
      "      dtype='object')\n",
      "Colonnes avec des valeurs manquantes : ['Salaire (€)', 'Télétravail (%)', 'Performance (Note)']\n"
     ]
    }
   ],
   "source": [
    "# 11. Identifier les colonnes contenant des valeurs manquantes.\n",
    "\n",
    "import pandas as pd\n",
    "\n",
    "# Charger le fichier Excel\n",
    "df = pd.read_excel(\"employes_dataset.xlsx\")\n",
    "\n",
    "# Afficher les noms des colonnes\n",
    "print(df.columns)\n",
    "\n",
    "# Identifier les colonnes contenant des valeurs manquantes\n",
    "colonnes_manquantes = df.columns[df.isnull().any()].tolist()\n",
    "\n",
    "# Afficher les colonnes avec des valeurs manquantes\n",
    "print(\"Colonnes avec des valeurs manquantes :\", colonnes_manquantes)\n"
   ]
  },
  {
   "cell_type": "code",
   "execution_count": 1,
   "id": "5e2233ec",
   "metadata": {},
   "outputs": [
    {
     "name": "stdout",
     "output_type": "stream",
     "text": [
      "0\n"
     ]
    }
   ],
   "source": [
    "# 12. Remplacer les NaN de la colonne ‘Télétravail (%)’ par la moyenne de cette colonne.\n",
    "\n",
    "import pandas as pd\n",
    "\n",
    "# Charger le fichier Excel\n",
    "df = pd.read_excel(\"employes_dataset.xlsx\")\n",
    "\n",
    "# Calculer la moyenne de la colonne \"Télétravail (%)\"\n",
    "moyenne_teletravail = df[\"Télétravail (%)\"].mean()\n",
    "\n",
    "# Remplacer les NaN par la moyenne calculée en affectant directement le résultat\n",
    "df[\"Télétravail (%)\"] = df[\"Télétravail (%)\"].fillna(moyenne_teletravail)\n",
    "\n",
    "# Vérifier que les NaN ont été remplacés\n",
    "print(df[\"Télétravail (%)\"].isnull().sum())  # Doit afficher 0 si toutes les valeurs manquantes ont été remplacées\n",
    "\n",
    "# Enregistrer les modifications dans le fichier Excel\n",
    "df.to_excel(\"employes_dataset_modifié.xlsx\", index=False)\n"
   ]
  },
  {
   "cell_type": "code",
   "execution_count": 2,
   "id": "641d7e8a",
   "metadata": {},
   "outputs": [
    {
     "name": "stdout",
     "output_type": "stream",
     "text": [
      "0\n"
     ]
    }
   ],
   "source": [
    "# 13. Remplacer les NaN de la colonne ‘Télétravail (%)’ par une valeur estimée pertinente (par\n",
    "# exemple, la moyenne par département ou selon l’âge).\n",
    "\n",
    "import pandas as pd\n",
    "\n",
    "# Charger le fichier Excel\n",
    "df = pd.read_excel(\"employes_dataset_modifié.xlsx\")\n",
    "\n",
    "# Créer des tranches d'âge (par exemple, des tranches de 10 ans)\n",
    "df[\"Tranche d'âge\"] = pd.cut(df[\"Âge\"], bins=range(20, 70, 10), right=False)\n",
    "\n",
    "# Remplacer les NaN de \"Télétravail (%)\" par la moyenne par tranche d'âge\n",
    "df[\"Télétravail (%)\"] = df.groupby(\"Tranche d'âge\", observed=False)[\"Télétravail (%)\"].transform(lambda x: x.fillna(x.mean()))\n",
    "\n",
    "# Sides NaN persise, les remplace par la moyenne generale\n",
    "df[\"Télétravail (%)\"] = df[\"Télétravail (%)\"].fillna(moyenne_teletravail)\n",
    "\n",
    "# Vérifier si toutes les valeurs manquantes ont été remplacées\n",
    "print(df[\"Télétravail (%)\"].isnull().sum())  # Doit afficher 0 si toutes les NaN ont été remplacées\n",
    "\n",
    "# Enregistrer les modifications dans le fichier Excel\n",
    "df.to_excel(\"employes_dataset_modifié.xlsx\", index=False)"
   ]
  },
  {
   "cell_type": "code",
   "execution_count": 3,
   "id": "2acb53ed",
   "metadata": {},
   "outputs": [],
   "source": [
    "# 14. Supprimer les lignes dont la colonne ‘Performance (Note)’ est manquante.\n",
    "\n",
    "import pandas as pd\n",
    "\n",
    "# Charger le fichier Excel\n",
    "df = pd.read_excel(\"employes_dataset_modifié.xlsx\")\n",
    "\n",
    "# Supprimer les lignes où \"Performance (Note)\" est NaN\n",
    "df = df.dropna(subset=[\"Performance (Note)\"])\n",
    "\n",
    "# Enregistrer le DataFrame modifié dans un nouveau fichier Excel\n",
    "df.to_excel(\"employes_dataset_modifié.xlsx\", index=False)\n",
    "\n"
   ]
  },
  {
   "cell_type": "code",
   "execution_count": 4,
   "id": "6d7e6869",
   "metadata": {},
   "outputs": [
    {
     "name": "stdout",
     "output_type": "stream",
     "text": [
      "Valeurs manquantes : 0 (0.00%)\n"
     ]
    }
   ],
   "source": [
    "# 15. Proposez une stratégie pertinente pour gérer les valeurs manquantes dans ‘Performance\n",
    "# Note)’ : suppression, remplissage conditionnel, ou autre — justifiez votre choix.\n",
    "# Avant de décider d'une méthode de traitement, il est essentiel d'examiner le pourcentage de valeurs manquantes\n",
    "# Si le taux de valeurs manquantes est faible (<5%), la suppression des lignes concernées est envisageable\n",
    "# Si le taux est modéré (5%-20%), on fera un remplissage conditionnel( emplissage par médiane/moyenne est un compromis simple si les données sont suffisamment homogènes.)\n",
    "# Si le taux est élevé (>20%), il faut envisager une imputation plus avancée(regression)\n",
    "\n",
    "\n",
    "import pandas as pd\n",
    "\n",
    "# Charger le fichier Excel\n",
    "df = pd.read_excel(\"employes_dataset_modifié.xlsx\")\n",
    "\n",
    "# Vérifier le nombre et le pourcentage de valeurs manquantes\n",
    "missing_values = df[\"Performance (Note)\"].isna().sum()\n",
    "total_values = len(df)\n",
    "missing_percentage = (missing_values / total_values) * 100\n",
    "\n",
    "print(f\"Valeurs manquantes : {missing_values} ({missing_percentage:.2f}%)\")\n",
    "\n",
    "# Pourcentage < 5% donc suppression des lignes concernees\n",
    "df = df.dropna(subset=[\"Performance (Note)\"])\n",
    "\n",
    "# Enregistrer le DataFrame modifié dans un nouveau fichier Excel\n",
    "df.to_excel(\"employes_dataset_modifié.xlsx\", index=False)"
   ]
  },
  {
   "cell_type": "code",
   "execution_count": 8,
   "id": "65bcfda2",
   "metadata": {},
   "outputs": [
    {
     "name": "stdout",
     "output_type": "stream",
     "text": [
      "  Date d'embauche  Ancienneté (années)\n",
      "0      2023-09-30                    1\n",
      "1      2023-10-14                    1\n",
      "2      2017-08-24                    7\n",
      "3      2022-06-09                    2\n",
      "4      2018-08-02                    6\n"
     ]
    }
   ],
   "source": [
    "# 17. Créer une colonne ‘Ancienneté (années)’ basée sur la date d’embauche.\n",
    "\n",
    "import pandas as pd\n",
    "from datetime import datetime\n",
    "\n",
    "# Charger le fichier Excel\n",
    "df = pd.read_excel(\"employes_dataset_modifié.xlsx\")\n",
    "\n",
    "# S'assurer que la colonne 'Date d'embauche' est bien en format datetime\n",
    "df[\"Date d'embauche\"] = pd.to_datetime(df[\"Date d'embauche\"], errors=\"coerce\")\n",
    "\n",
    "# Calculer l'ancienneté en années\n",
    "df[\"Ancienneté (années)\"] = (datetime.today() - df[\"Date d'embauche\"]).dt.days // 365\n",
    "\n",
    "# Afficher les premières lignes pour vérifier\n",
    "print(df[[\"Date d'embauche\", \"Ancienneté (années)\"]].head())\n",
    "\n",
    "# Sauvegarder les modifications si nécessaire\n",
    "df.to_excel(\"employes_dataset_modifié.xlsx\", index=False)\n"
   ]
  },
  {
   "cell_type": "code",
   "execution_count": 9,
   "id": "4d408607",
   "metadata": {},
   "outputs": [
    {
     "name": "stdout",
     "output_type": "stream",
     "text": [
      "Les doublons ont été supprimés avec succès.\n"
     ]
    }
   ],
   "source": [
    "# 18. Supprimer les doublons éventuels du fichier.\n",
    "\n",
    "import pandas as pd\n",
    "\n",
    "# Charger le fichier Excel modifié\n",
    "df = pd.read_excel(\"employes_dataset_modifié.xlsx\")\n",
    "\n",
    "# Supprimer les doublons en gardant la première occurrence\n",
    "df = df.drop_duplicates()\n",
    "\n",
    "# Sauvegarder les modifications\n",
    "df.to_excel(\"employes_dataset_modifié.xlsx\", index=False)\n",
    "\n",
    "print(\"Les doublons ont été supprimés avec succès.\")"
   ]
  },
  {
   "cell_type": "code",
   "execution_count": 10,
   "id": "459784a6",
   "metadata": {},
   "outputs": [
    {
     "name": "stdout",
     "output_type": "stream",
     "text": [
      "Les majuscules ont été uniformisées avec succès.\n"
     ]
    }
   ],
   "source": [
    "# 19. Uniformiser les majuscules dans les colonnes ‘Nom’, ‘Prénom’, ‘Ville’, ‘Pays’.\n",
    "\n",
    "import pandas as pd\n",
    "\n",
    "# Charger le fichier Excel modifié\n",
    "df = pd.read_excel(\"employes_dataset_modifié.xlsx\")\n",
    "\n",
    "# Normaliser les majuscules (Première lettre en majuscule pour chaque mot)\n",
    "columns_to_format = [\"Nom\", \"Prénom\", \"Ville\", \"Pays\"]\n",
    "df[columns_to_format] = df[columns_to_format].apply(lambda x: x.str.title())\n",
    "\n",
    "# Sauvegarder les modifications\n",
    "df.to_excel(\"employes_dataset_modifié.xlsx\", index=False)\n",
    "\n",
    "print(\"Les majuscules ont été uniformisées avec succès.\")"
   ]
  },
  {
   "cell_type": "code",
   "execution_count": 11,
   "id": "2a3c64f8",
   "metadata": {},
   "outputs": [
    {
     "name": "stdout",
     "output_type": "stream",
     "text": [
      "✅ La colonne 'Email valide' a été ajoutée avec succès.\n"
     ]
    }
   ],
   "source": [
    "# 20. Créer une colonne ‘Email valide’ qui indique si l’e-mail semble valide (xxx@xx.xx’).\n",
    "\n",
    "import pandas as pd\n",
    "import re\n",
    "\n",
    "# Charger le fichier Excel modifié\n",
    "df = pd.read_excel(\"employes_dataset_modifié.xlsx\")\n",
    "\n",
    "# Vérifier si la colonne 'Email' existe\n",
    "if \"Email\" in df.columns:\n",
    "    # Définir une fonction pour valider les e-mails\n",
    "    def est_email_valide(email):\n",
    "        pattern = r\"^[a-zA-Z0-9_.+-]+@[a-zA-Z0-9-]+\\.[a-zA-Z]{2,}$\"\n",
    "        return bool(re.match(pattern, str(email)))\n",
    "\n",
    "    # Créer la colonne 'Email valide'\n",
    "    df[\"Email valide\"] = df[\"Email\"].apply(est_email_valide)\n",
    "\n",
    "    # Sauvegarder les modifications\n",
    "    df.to_excel(\"employes_dataset_modifié.xlsx\", index=False)\n",
    "    \n",
    "    print(\"✅ La colonne 'Email valide' a été ajoutée avec succès.\")\n",
    "else:\n",
    "    print(\"⚠️ La colonne 'Email' n'existe pas dans le fichier.\")"
   ]
  },
  {
   "cell_type": "code",
   "execution_count": 12,
   "id": "d02457ad",
   "metadata": {},
   "outputs": [
    {
     "name": "stdout",
     "output_type": "stream",
     "text": [
      "✅ Les valeurs extrêmes (outliers) ont été supprimées.\n"
     ]
    }
   ],
   "source": [
    "# 21. Supprimer les valeurs extrêmes (outliers) dans la colonne ‘Salaire’ en utilisant l’écart\n",
    "# interquartile (IQR).\n",
    "\n",
    "import pandas as pd\n",
    "\n",
    "# Charger le fichier Excel modifié\n",
    "df = pd.read_excel(\"employes_dataset_modifié.xlsx\")\n",
    "\n",
    "# Calculer l'IQR pour la colonne 'Salaire'\n",
    "Q1 = df['Salaire (€)'].quantile(0.25)\n",
    "Q3 = df['Salaire (€)'].quantile(0.75)\n",
    "IQR = Q3 - Q1\n",
    "\n",
    "# Définir les limites pour les valeurs acceptables (pas d'outliers)\n",
    "limite_inf = Q1 - 1.5 * IQR\n",
    "limite_sup = Q3 + 1.5 * IQR\n",
    "\n",
    "# Filtrer les données pour enlever les outliers\n",
    "df_sans_outliers = df[(df['Salaire (€)'] >= limite_inf) & (df['Salaire (€)'] <= limite_sup)]\n",
    "\n",
    "# Sauvegarder les modifications sans les outliers\n",
    "df_sans_outliers.to_excel(\"employes_dataset_modifié.xlsx\", index=False)\n",
    "\n",
    "print(\"✅ Les valeurs extrêmes (outliers) ont été supprimées.\")\n"
   ]
  },
  {
   "cell_type": "code",
   "execution_count": 13,
   "id": "147bad7d",
   "metadata": {},
   "outputs": [
    {
     "name": "stdout",
     "output_type": "stream",
     "text": [
      "Index(['ID', 'Nom', 'Prénom', 'Âge', 'Sexe', 'Email', 'Pays', 'Ville',\n",
      "       'Salaire (€)', 'Date d'embauche', 'Département', 'Télétravail (%)',\n",
      "       'Performance (Note)', 'Tranche d'âge', 'Ancienneté (années)',\n",
      "       'Email valide'],\n",
      "      dtype='object')\n"
     ]
    },
    {
     "data": {
      "image/png": "[encoded data removed]",
      "text/plain": [
       "<Figure size 1000x600 with 1 Axes>"
      ]
     },
     "metadata": {},
     "output_type": "display_data"
    },
    {
     "name": "stdout",
     "output_type": "stream",
     "text": [
      "Statistique de Shapiro-Wilk: 0.9493465833565499\n",
      "Valeur p: 1.5926269849559594e-17\n",
      "La distribution des âges ne semble pas suivre une loi normale (p <= 0.05).\n"
     ]
    }
   ],
   "source": [
    "# 22. Vérifier si la distribution des âges suit une loi normale à l’aide de NumPy.\n",
    "\n",
    "import pandas as pd\n",
    "import numpy as np\n",
    "import matplotlib.pyplot as plt\n",
    "import seaborn as sns\n",
    "from scipy import stats\n",
    "\n",
    "# Charger le fichier Excel modifié\n",
    "df = pd.read_excel(\"employes_dataset_modifié.xlsx\")\n",
    "\n",
    "# Afficher les noms des colonnes\n",
    "print(df.columns)\n",
    "\n",
    "# Vérifier si la colonne 'Age' existe\n",
    "if \"Âge\" in df.columns:\n",
    "    # Extraire la colonne 'Age'\n",
    "    ages = df[\"Âge\"]\n",
    "\n",
    "    # Afficher un histogramme de la distribution des âges\n",
    "    plt.figure(figsize=(10, 6))\n",
    "    sns.histplot(ages, kde=True)\n",
    "    plt.title(\"Distribution des âges\")\n",
    "    plt.xlabel(\"Âge\")\n",
    "    plt.ylabel(\"Fréquence\")\n",
    "    plt.show()\n",
    "\n",
    "    # Vérifier la normalité avec le test de Shapiro-Wilk\n",
    "    stat, p_value = stats.shapiro(ages.dropna())  # Supprimer les NaN avant le test\n",
    "\n",
    "    print(f\"Statistique de Shapiro-Wilk: {stat}\")\n",
    "    print(f\"Valeur p: {p_value}\")\n",
    "\n",
    "    # Conclusion basée sur la valeur p\n",
    "    if p_value > 0.05:\n",
    "        print(\"La distribution des âges semble suivre une loi normale (p > 0.05).\")\n",
    "    else:\n",
    "        print(\"La distribution des âges ne semble pas suivre une loi normale (p <= 0.05).\")\n",
    "else:\n",
    "        print(\"⚠️ La colonne 'Age' n'existe pas dans le fichier.\")\n",
    "\n",
    "          "
   ]
  },
  {
   "cell_type": "code",
   "execution_count": 14,
   "id": "fa7f141d",
   "metadata": {},
   "outputs": [
    {
     "name": "stdout",
     "output_type": "stream",
     "text": [
      "✅ La colonne 'prime' a été ajoutée avec succès.\n"
     ]
    }
   ],
   "source": [
    "# 23. Créer une colonne ‘prime’ : si la performance est ≥ 4 et l’ancienneté ≥ 5 ans → 1000, sinon\n",
    "# 0 (avec NumPy).\n",
    "\n",
    "import pandas as pd\n",
    "import numpy as np\n",
    "\n",
    "# Charger le fichier Excel modifié\n",
    "df = pd.read_excel(\"employes_dataset_modifié.xlsx\")\n",
    "\n",
    "# Vérifier si les colonnes 'Performance' et 'Ancienneté (années)' existent\n",
    "if \"Performance (Note)\" in df.columns and \"Ancienneté (années)\" in df.columns:\n",
    "\n",
    "    # Créer la colonne 'prime' en fonction des conditions spécifiées\n",
    "    df['prime'] = np.where((df['Performance (Note)'] >= 4) & (df['Ancienneté (années)'] >= 5), 1000, 0)\n",
    "    \n",
    "    # Sauvegarder les modifications\n",
    "    df.to_excel(\"employes_dataset_modifié.xlsx\", index=False)\n",
    "    \n",
    "    print(\"✅ La colonne 'prime' a été ajoutée avec succès.\")\n",
    "else:\n",
    "    print(\"⚠️ Les colonnes 'Performance (Note)' et/ou 'Ancienneté (années)' n'existent pas dans le fichier.\")\n"
   ]
  },
  {
   "cell_type": "code",
   "execution_count": 15,
   "id": "d38e6760",
   "metadata": {},
   "outputs": [
    {
     "name": "stdout",
     "output_type": "stream",
     "text": [
      "0    1\n",
      "1    1\n",
      "2    1\n",
      "3    1\n",
      "4    1\n",
      "Name: Sexe, dtype: int64\n",
      "✅ La colonne 'Sexe' a été encodée avec succès.\n"
     ]
    }
   ],
   "source": [
    "# 24. Encoder la colonne ‘Sexe’ en valeurs numériques (0 pour Femme, 1 pour Homme)\n",
    "\n",
    "import pandas as pd\n",
    "\n",
    "# Charger le fichier Excel modifié\n",
    "df = pd.read_excel(\"employes_dataset_modifié.xlsx\")\n",
    "\n",
    "# Vérifier si la colonne 'Sexe' existe\n",
    "if \"Sexe\" in df.columns:\n",
    "    # Encoder la colonne 'Sexe' : 0 pour Femme, 1 pour Homme\n",
    "    df['Sexe'] = df['Sexe'].map({'Femme': 0, 'Homme': 1})\n",
    "    \n",
    "    # Sauvegarder les modifications\n",
    "    df.to_excel(\"employes_dataset_modifié.xlsx\", index=False)\n",
    "    \n",
    "    # Afficher les 5 premières lignes de la colonne 'Sexe'\n",
    "    print(df['Sexe'].head())\n",
    "\n",
    "    print(\"✅ La colonne 'Sexe' a été encodée avec succès.\")\n",
    "else:\n",
    "    print(\"⚠️ La colonne 'Sexe' n'existe pas dans le fichier.\")"
   ]
  },
  {
   "cell_type": "code",
   "execution_count": 16,
   "id": "bb15b88c",
   "metadata": {},
   "outputs": [
    {
     "name": "stdout",
     "output_type": "stream",
     "text": [
      "0     NaN\n",
      "1     NaN\n",
      "2    0-25\n",
      "3    0-25\n",
      "4    0-25\n",
      "Name: Tranche d’âge, dtype: category\n",
      "Categories (3, object): ['0-25' < '26-30' < '31-40']\n",
      "✅ La colonne 'Tranche d’âge' a été ajoutée avec succès.\n"
     ]
    }
   ],
   "source": [
    "# 25. Utilisez pd.cut() pour créer une nouvelle colonne ‘Tranche d’âge’ avec les intervalles\n",
    "# suivants : 0-25, 26-30, 31-40.\n",
    "\n",
    "import pandas as pd\n",
    "\n",
    "# Charger le fichier Excel modifié\n",
    "df = pd.read_excel(\"employes_dataset_modifié.xlsx\")\n",
    "\n",
    "# Vérifier si la colonne 'Age' existe\n",
    "if \"Âge\" in df.columns:\n",
    "    # Définir les intervalles pour les tranches d'âge\n",
    "    bins = [0, 25, 30, 40]\n",
    "    labels = ['0-25', '26-30', '31-40']\n",
    "    \n",
    "    \n",
    "    # Créer la colonne 'Tranche d’âge' en utilisant pd.cut()\n",
    "    df['Tranche d’âge'] = pd.cut(df['Âge'], bins=bins, labels=labels, right=True, include_lowest=True)\n",
    "    \n",
    "    # Sauvegarder les modifications\n",
    "    df.to_excel(\"employes_dataset_modifié.xlsx\", index=False) \n",
    "    \n",
    "    # Afficher les 5 premières lignes de la colonne 'Âge'\n",
    "    print(df['Tranche d’âge'].head())\n",
    "\n",
    "    print(\"✅ La colonne 'Tranche d’âge' a été ajoutée avec succès.\")\n",
    "else:\n",
    "    print(\"⚠️ La colonne 'Age' n'existe pas dans le fichier.\")\n",
    "\n"
   ]
  },
  {
   "cell_type": "code",
   "execution_count": null,
   "id": "f67eda6b",
   "metadata": {},
   "outputs": [
    {
     "name": "stdout",
     "output_type": "stream",
     "text": [
      "0\n"
     ]
    }
   ],
   "source": [
    "# \n"
   ]
  }
 ],
 "metadata": {
  "kernelspec": {
   "display_name": "tpemployes",
   "language": "python",
   "name": "python3"
  },
  "language_info": {
   "codemirror_mode": {
    "name": "ipython",
    "version": 3
   },
   "file_extension": ".py",
   "mimetype": "text/x-python",
   "name": "python",
   "nbconvert_exporter": "python",
   "pygments_lexer": "ipython3",
   "version": "3.9.21"
  }
 },
 "nbformat": 4,
 "nbformat_minor": 5
}
