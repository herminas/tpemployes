{
 "cells": [
  {
   "cell_type": "code",
   "execution_count": 2,
   "id": "abb7fc9a",
   "metadata": {},
   "outputs": [
    {
     "name": "stdout",
     "output_type": "stream",
     "text": [
      "                         Transaction ID       Date  \\\n",
      "0  b90c55bf-2a79-431c-bc11-c1b8e764f780 2024-03-27   \n",
      "1  d364d102-0604-4061-b0d2-aeb7d4495504 2024-05-31   \n",
      "2  cfbcc1ff-8eb9-4349-bfee-c845793aec38 2025-01-02   \n",
      "3  5fa27823-888d-42c4-b669-89339e2834fe 2024-08-01   \n",
      "4  ea5fe267-5877-4d3a-a8b5-a07a9659a673 2024-08-06   \n",
      "\n",
      "                              Client ID         Pays     Catégorie  Marque  \\\n",
      "0  2b9afa4c-e1ab-4d05-810c-e2342c26bffa       Gambia        Livres  accept   \n",
      "1  91acae16-626a-4082-8879-fbe94b170368   Madagascar        Maison   quite   \n",
      "2  009f5919-2d4f-4119-8a52-a624fe383028        Samoa     Vêtements   stock   \n",
      "3  2fb01dc7-37de-4c69-95ce-e3a4ee1e34b6  El Salvador  Électronique  garden   \n",
      "4  2e53eaca-a1d5-4eee-9819-3913d296bf01       Cyprus        Maison    song   \n",
      "\n",
      "   Quantité  Prix unitaire (€) Méthode de paiement  Note client  \\\n",
      "0         2              41.20              PayPal          4.0   \n",
      "1         3             354.36              PayPal          3.0   \n",
      "2         5             449.46       Cryptomonnaie          2.0   \n",
      "3         2             136.41              PayPal          3.0   \n",
      "4         4             155.17       Cryptomonnaie          2.0   \n",
      "\n",
      "   Montant total (€)  \n",
      "0              82.40  \n",
      "1            1063.08  \n",
      "2            2247.30  \n",
      "3             272.82  \n",
      "4             620.68  \n",
      "<class 'pandas.core.frame.DataFrame'>\n",
      "RangeIndex: 10000 entries, 0 to 9999\n",
      "Data columns (total 11 columns):\n",
      " #   Column               Non-Null Count  Dtype         \n",
      "---  ------               --------------  -----         \n",
      " 0   Transaction ID       10000 non-null  object        \n",
      " 1   Date                 10000 non-null  datetime64[ns]\n",
      " 2   Client ID            10000 non-null  object        \n",
      " 3   Pays                 10000 non-null  object        \n",
      " 4   Catégorie            10000 non-null  object        \n",
      " 5   Marque               10000 non-null  object        \n",
      " 6   Quantité             10000 non-null  int64         \n",
      " 7   Prix unitaire (€)    10000 non-null  float64       \n",
      " 8   Méthode de paiement  10000 non-null  object        \n",
      " 9   Note client          9514 non-null   float64       \n",
      " 10  Montant total (€)    10000 non-null  float64       \n",
      "dtypes: datetime64[ns](1), float64(3), int64(1), object(6)\n",
      "memory usage: 859.5+ KB\n",
      "None\n"
     ]
    }
   ],
   "source": [
    "# 1. Charger les données dans un DataFrame Pandas et afficher un aperçu général du jeu de données.\n",
    "\n",
    "import pandas as pd\n",
    "\n",
    "# Charger le fichier Excel dans un DataFrame\n",
    "df = pd.read_excel('ecommerce_transactions.xlsx')\n",
    "\n",
    "# Afficher un aperçu général du jeu de données\n",
    "print(df.head())  # Affiche les 5 premières lignes\n",
    "print(df.info())  # Affiche des informations sur les colonnes, types et valeurs manquantes"
   ]
  },
  {
   "cell_type": "code",
   "execution_count": null,
   "id": "b4ab749e",
   "metadata": {},
   "outputs": [
    {
     "name": "stdout",
     "output_type": "stream",
     "text": [
      "Dimensions du DataFrame: (10000, 11)\n",
      "Types de chaque colonne:\n",
      "Transaction ID                 object\n",
      "Date                   datetime64[ns]\n",
      "Client ID                      object\n",
      "Pays                           object\n",
      "Catégorie                      object\n",
      "Marque                         object\n",
      "Quantité                        int64\n",
      "Prix unitaire (€)             float64\n",
      "Méthode de paiement            object\n",
      "Note client                   float64\n",
      "Montant total (€)             float64\n",
      "dtype: object\n"
     ]
    }
   ],
   "source": [
    "#2. Afficher les dimensions du DataFrame et le type de chaque colonne.\n",
    "\n",
    "import pandas as pd\n",
    "\n",
    "# Charger le fichier Excel dans un DataFrame\n",
    "df = pd.read_excel('ecommerce_transactions.xlsx')\n",
    "\n",
    "\n",
    "# Afficher les dimensions du DataFrame (nombre de lignes et de colonnes)\n",
    "print(f\"Dimensions du DataFrame: {df.shape}\")\n",
    "\n",
    "# Afficher le type de chaque colonne\n",
    "print(f\"Types de chaque colonne:\\n{df.dtypes}\")"
   ]
  },
  {
   "cell_type": "code",
   "execution_count": 12,
   "id": "d487f2fc",
   "metadata": {},
   "outputs": [
    {
     "name": "stdout",
     "output_type": "stream",
     "text": [
      "Colonnes avec des valeurs manquantes :\n",
      "Note client    486\n",
      "dtype: int64\n"
     ]
    }
   ],
   "source": [
    "# 3. Identifier les colonnes contenant des valeurs manquantes et proposer une stratégie adaptée pour\n",
    "# les traiter (ex : selon la catégorie ou la méthode de paiement).\n",
    "\n",
    "import pandas as pd\n",
    "\n",
    "# Charger le fichier Excel dans un DataFrame\n",
    "df = pd.read_excel('ecommerce_transactions.xlsx')\n",
    "\n",
    "\n",
    "# Identifier les colonnes contenant des valeurs manquantes et leur nombre\n",
    "missing_data = df.isnull().sum()\n",
    "\n",
    "# Afficher les colonnes avec des valeurs manquantes\n",
    "print(\"Colonnes avec des valeurs manquantes :\")\n",
    "print(missing_data[missing_data > 0])\n",
    "\n",
    "# Pour une colonne catégorielle (Méthode de paiement)\n",
    "df['Méthode de paiement'] = df['Méthode de paiement'].fillna(df['Méthode de paiement'].mode()[0])  # Remplacer par la modalité la plus fréquente\n",
    "\n",
    "# Pour une colonne numérique (Montant total (€)), en fonction du mode de paiement\n",
    "df['Montant total (€)'] = df.groupby('Méthode de paiement')['Montant total (€)'].transform(lambda x: x.fillna(x.mean()))  # Remplacer par la moyenne par mode de paiement\n",
    "\n",
    "# Pour une colonne numérique (Quantité), en fonction de la catégorie\n",
    "df['Quantité'] = df.groupby('Catégorie')['Quantité'].transform(lambda x: x.fillna(x.median()))  # Remplacer par la médiane par catégorie\n"
   ]
  },
  {
   "cell_type": "code",
   "execution_count": 15,
   "id": "78d528c6",
   "metadata": {},
   "outputs": [
    {
     "name": "stdout",
     "output_type": "stream",
     "text": [
      "(10000, 11)\n",
      "(28, 11)\n",
      "Fichier enregistré sous 'ecommerce_transactions_modifie.xlsx'\n"
     ]
    }
   ],
   "source": [
    "#4. Supprimer les doublons éventuels.\n",
    "\n",
    "import pandas as pd\n",
    "\n",
    "# Charger le fichier Excel dans un DataFrame\n",
    "df = pd.read_excel('ecommerce_transactions.xlsx')\n",
    "\n",
    "# Supprimer les doublons du DataFrame\n",
    "df = df.drop_duplicates()\n",
    "\n",
    "# Vérifier si les doublons ont bien été supprimés\n",
    "print(df.shape)  # Affiche le nombre de lignes et de colonnes après suppression des doublons\n",
    "\n",
    "# Supprimer les doublons basés sur les colonnes 'Méthode de paiement' et 'Catégorie'\n",
    "df = df.drop_duplicates(subset=['Méthode de paiement', 'Catégorie'])\n",
    "\n",
    "# Vérifier les dimensions après suppression\n",
    "print(df.shape)\n",
    "\n",
    "# enregistrer le fichier sans doublons\n",
    "df.to_excel('ecommerce_transactions_modifie.xlsx', index=False)\n",
    "\n",
    "print(\"Fichier enregistré sous 'ecommerce_transactions_modifie.xlsx'\")\n",
    "\n"
   ]
  },
  {
   "cell_type": "code",
   "execution_count": 17,
   "id": "d054bff0",
   "metadata": {},
   "outputs": [
    {
     "name": "stdout",
     "output_type": "stream",
     "text": [
      "                         Transaction ID       Date  \\\n",
      "0  b90c55bf-2a79-431c-bc11-c1b8e764f780 2024-03-27   \n",
      "1  d364d102-0604-4061-b0d2-aeb7d4495504 2024-05-31   \n",
      "2  cfbcc1ff-8eb9-4349-bfee-c845793aec38 2025-01-02   \n",
      "3  5fa27823-888d-42c4-b669-89339e2834fe 2024-08-01   \n",
      "4  ea5fe267-5877-4d3a-a8b5-a07a9659a673 2024-08-06   \n",
      "\n",
      "                              Client ID         Pays     Catégorie  Marque  \\\n",
      "0  2b9afa4c-e1ab-4d05-810c-e2342c26bffa       Gambia        Livres  accept   \n",
      "1  91acae16-626a-4082-8879-fbe94b170368   Madagascar        Maison   quite   \n",
      "2  009f5919-2d4f-4119-8a52-a624fe383028        Samoa     Vêtements   stock   \n",
      "3  2fb01dc7-37de-4c69-95ce-e3a4ee1e34b6  El Salvador  Électronique  garden   \n",
      "4  2e53eaca-a1d5-4eee-9819-3913d296bf01       Cyprus        Maison    song   \n",
      "\n",
      "   Quantité  Prix unitaire (€) Méthode de paiement  Note client  \\\n",
      "0         2              41.20              PayPal          4.0   \n",
      "1         3             354.36              PayPal          3.0   \n",
      "2         5             449.46       Cryptomonnaie          2.0   \n",
      "3         2             136.41              PayPal          3.0   \n",
      "4         4             155.17       Cryptomonnaie          2.0   \n",
      "\n",
      "   Montant total (€) Année-Mois  \n",
      "0              82.40    2024-03  \n",
      "1            1063.08    2024-05  \n",
      "2            2247.30    2025-01  \n",
      "3             272.82    2024-08  \n",
      "4             620.68    2024-08  \n"
     ]
    }
   ],
   "source": [
    "# 5. Créer une colonne ‘Année-Mois’ à partir de la colonne ‘Date’ pour faciliter l’analyse temporelle.\n",
    "\n",
    "import pandas as pd\n",
    "\n",
    "# Charger le fichier Excel dans un DataFrame\n",
    "df = pd.read_excel('ecommerce_transactions_modifie.xlsx')\n",
    "\n",
    "# Assurer que la colonne 'Date' est au format datetime\n",
    "df['Date'] = pd.to_datetime(df['Date'], errors='coerce')\n",
    "\n",
    "# Créer la nouvelle colonne 'Année-Mois'\n",
    "df['Année-Mois'] = df['Date'].dt.to_period('M')  # Format Année-Mois (ex: 2025-04)\n",
    "\n",
    "print(df.head())  # Affiche les 5 premières lignes\n",
    "\n",
    "# Enregistrer le DataFrame modifié dans un nouveau fichier Excel\n",
    "df.to_excel('ecommerce_transactions_modifie.xlsx', index=False)\n",
    "\n"
   ]
  },
  {
   "cell_type": "code",
   "execution_count": 18,
   "id": "f208316d",
   "metadata": {},
   "outputs": [
    {
     "name": "stdout",
     "output_type": "stream",
     "text": [
      "Pays\n",
      "Samoa                        2247.30\n",
      "Bouvet Island (Bouvetoya)    1514.12\n",
      "Greece                       1449.84\n",
      "Jamaica                      1220.24\n",
      "Kenya                        1095.33\n",
      "Name: Montant total (€), dtype: float64\n"
     ]
    }
   ],
   "source": [
    "# 6. Afficher les 5 pays générant le plus de chiffre d’affaires total.\n",
    "\n",
    "import pandas as pd\n",
    "\n",
    "# Charger le fichier Excel dans un DataFrame\n",
    "df = pd.read_excel('ecommerce_transactions_modifie.xlsx')\n",
    "\n",
    "# Calculer le chiffre d'affaires total par pays\n",
    "chiffre_affaires_par_pays = df.groupby('Pays')['Montant total (€)'].sum()\n",
    "\n",
    "# Trier par chiffre d'affaires décroissant et sélectionner les 5 premiers\n",
    "top_5_pays = chiffre_affaires_par_pays.sort_values(ascending=False).head(5)\n",
    "\n",
    "# Afficher les résultats\n",
    "print(top_5_pays)\n"
   ]
  },
  {
   "cell_type": "code",
   "execution_count": null,
   "id": "ce4a5d5b",
   "metadata": {},
   "outputs": [],
   "source": []
  }
 ],
 "metadata": {
  "kernelspec": {
   "display_name": "tpemployes",
   "language": "python",
   "name": "python3"
  },
  "language_info": {
   "codemirror_mode": {
    "name": "ipython",
    "version": 3
   },
   "file_extension": ".py",
   "mimetype": "text/x-python",
   "name": "python",
   "nbconvert_exporter": "python",
   "pygments_lexer": "ipython3",
   "version": "3.9.21"
  }
 },
 "nbformat": 4,
 "nbformat_minor": 5
}
