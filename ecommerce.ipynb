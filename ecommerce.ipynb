{
 "cells": [
  {
   "cell_type": "code",
   "execution_count": 2,
   "id": "abb7fc9a",
   "metadata": {},
   "outputs": [
    {
     "name": "stdout",
     "output_type": "stream",
     "text": [
      "                         Transaction ID       Date  \\\n",
      "0  b90c55bf-2a79-431c-bc11-c1b8e764f780 2024-03-27   \n",
      "1  d364d102-0604-4061-b0d2-aeb7d4495504 2024-05-31   \n",
      "2  cfbcc1ff-8eb9-4349-bfee-c845793aec38 2025-01-02   \n",
      "3  5fa27823-888d-42c4-b669-89339e2834fe 2024-08-01   \n",
      "4  ea5fe267-5877-4d3a-a8b5-a07a9659a673 2024-08-06   \n",
      "\n",
      "                              Client ID         Pays     Catégorie  Marque  \\\n",
      "0  2b9afa4c-e1ab-4d05-810c-e2342c26bffa       Gambia        Livres  accept   \n",
      "1  91acae16-626a-4082-8879-fbe94b170368   Madagascar        Maison   quite   \n",
      "2  009f5919-2d4f-4119-8a52-a624fe383028        Samoa     Vêtements   stock   \n",
      "3  2fb01dc7-37de-4c69-95ce-e3a4ee1e34b6  El Salvador  Électronique  garden   \n",
      "4  2e53eaca-a1d5-4eee-9819-3913d296bf01       Cyprus        Maison    song   \n",
      "\n",
      "   Quantité  Prix unitaire (€) Méthode de paiement  Note client  \\\n",
      "0         2              41.20              PayPal          4.0   \n",
      "1         3             354.36              PayPal          3.0   \n",
      "2         5             449.46       Cryptomonnaie          2.0   \n",
      "3         2             136.41              PayPal          3.0   \n",
      "4         4             155.17       Cryptomonnaie          2.0   \n",
      "\n",
      "   Montant total (€)  \n",
      "0              82.40  \n",
      "1            1063.08  \n",
      "2            2247.30  \n",
      "3             272.82  \n",
      "4             620.68  \n",
      "<class 'pandas.core.frame.DataFrame'>\n",
      "RangeIndex: 10000 entries, 0 to 9999\n",
      "Data columns (total 11 columns):\n",
      " #   Column               Non-Null Count  Dtype         \n",
      "---  ------               --------------  -----         \n",
      " 0   Transaction ID       10000 non-null  object        \n",
      " 1   Date                 10000 non-null  datetime64[ns]\n",
      " 2   Client ID            10000 non-null  object        \n",
      " 3   Pays                 10000 non-null  object        \n",
      " 4   Catégorie            10000 non-null  object        \n",
      " 5   Marque               10000 non-null  object        \n",
      " 6   Quantité             10000 non-null  int64         \n",
      " 7   Prix unitaire (€)    10000 non-null  float64       \n",
      " 8   Méthode de paiement  10000 non-null  object        \n",
      " 9   Note client          9514 non-null   float64       \n",
      " 10  Montant total (€)    10000 non-null  float64       \n",
      "dtypes: datetime64[ns](1), float64(3), int64(1), object(6)\n",
      "memory usage: 859.5+ KB\n",
      "None\n"
     ]
    }
   ],
   "source": [
    "# 1. Charger les données dans un DataFrame Pandas et afficher un aperçu général du jeu de données.\n",
    "\n",
    "import pandas as pd\n",
    "\n",
    "# Charger le fichier Excel dans un DataFrame\n",
    "df = pd.read_excel('ecommerce_transactions.xlsx')\n",
    "\n",
    "# Afficher un aperçu général du jeu de données\n",
    "print(df.head())  # Affiche les 5 premières lignes\n",
    "print(df.info())  # Affiche des informations sur les colonnes, types et valeurs manquantes"
   ]
  },
  {
   "cell_type": "code",
   "execution_count": 3,
   "id": "b4ab749e",
   "metadata": {},
   "outputs": [
    {
     "name": "stdout",
     "output_type": "stream",
     "text": [
      "Dimensions du DataFrame: (10000, 11)\n",
      "Types de chaque colonne:\n",
      "Transaction ID                 object\n",
      "Date                   datetime64[ns]\n",
      "Client ID                      object\n",
      "Pays                           object\n",
      "Catégorie                      object\n",
      "Marque                         object\n",
      "Quantité                        int64\n",
      "Prix unitaire (€)             float64\n",
      "Méthode de paiement            object\n",
      "Note client                   float64\n",
      "Montant total (€)             float64\n",
      "dtype: object\n"
     ]
    }
   ],
   "source": [
    "#2. Afficher les dimensions du DataFrame et le type de chaque colonne.\n",
    "\n",
    "# Afficher les dimensions du DataFrame (nombre de lignes et de colonnes)\n",
    "print(f\"Dimensions du DataFrame: {df.shape}\")\n",
    "\n",
    "# Afficher le type de chaque colonne\n",
    "print(f\"Types de chaque colonne:\\n{df.dtypes}\")"
   ]
  },
  {
   "cell_type": "code",
   "execution_count": null,
   "id": "d487f2fc",
   "metadata": {},
   "outputs": [],
   "source": [
    "# 3. Identifier les colonnes contenant des valeurs manquantes et proposer une stratégie adaptée pour\n",
    "# les traiter (ex : selon la catégorie ou la méthode de paiement)."
   ]
  },
  {
   "cell_type": "code",
   "execution_count": null,
   "id": "78d528c6",
   "metadata": {},
   "outputs": [],
   "source": [
    "#4. Supprimer les doublons éventuels."
   ]
  },
  {
   "cell_type": "code",
   "execution_count": null,
   "id": "d054bff0",
   "metadata": {},
   "outputs": [],
   "source": [
    "# 5. Créer une colonne ‘Année-Mois’ à partir de la colonne ‘Date’ pour faciliter l’analyse temporelle."
   ]
  },
  {
   "cell_type": "code",
   "execution_count": null,
   "id": "f208316d",
   "metadata": {},
   "outputs": [],
   "source": [
    "# 6. Afficher les 5 pays générant le plus de chiffre d’affaires total."
   ]
  },
  {
   "cell_type": "code",
   "execution_count": null,
   "id": "ce4a5d5b",
   "metadata": {},
   "outputs": [],
   "source": []
  }
 ],
 "metadata": {
  "kernelspec": {
   "display_name": "tpemployes",
   "language": "python",
   "name": "python3"
  },
  "language_info": {
   "codemirror_mode": {
    "name": "ipython",
    "version": 3
   },
   "file_extension": ".py",
   "mimetype": "text/x-python",
   "name": "python",
   "nbconvert_exporter": "python",
   "pygments_lexer": "ipython3",
   "version": "3.9.21"
  }
 },
 "nbformat": 4,
 "nbformat_minor": 5
}
