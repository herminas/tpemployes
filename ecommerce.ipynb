{
 "cells": [
  {
   "cell_type": "code",
   "execution_count": 2,
   "id": "abb7fc9a",
   "metadata": {},
   "outputs": [
    {
     "name": "stdout",
     "output_type": "stream",
     "text": [
      "                         Transaction ID       Date  \\\n",
      "0  b90c55bf-2a79-431c-bc11-c1b8e764f780 2024-03-27   \n",
      "1  d364d102-0604-4061-b0d2-aeb7d4495504 2024-05-31   \n",
      "2  cfbcc1ff-8eb9-4349-bfee-c845793aec38 2025-01-02   \n",
      "3  5fa27823-888d-42c4-b669-89339e2834fe 2024-08-01   \n",
      "4  ea5fe267-5877-4d3a-a8b5-a07a9659a673 2024-08-06   \n",
      "\n",
      "                              Client ID         Pays     Catégorie  Marque  \\\n",
      "0  2b9afa4c-e1ab-4d05-810c-e2342c26bffa       Gambia        Livres  accept   \n",
      "1  91acae16-626a-4082-8879-fbe94b170368   Madagascar        Maison   quite   \n",
      "2  009f5919-2d4f-4119-8a52-a624fe383028        Samoa     Vêtements   stock   \n",
      "3  2fb01dc7-37de-4c69-95ce-e3a4ee1e34b6  El Salvador  Électronique  garden   \n",
      "4  2e53eaca-a1d5-4eee-9819-3913d296bf01       Cyprus        Maison    song   \n",
      "\n",
      "   Quantité  Prix unitaire (€) Méthode de paiement  Note client  \\\n",
      "0         2              41.20              PayPal          4.0   \n",
      "1         3             354.36              PayPal          3.0   \n",
      "2         5             449.46       Cryptomonnaie          2.0   \n",
      "3         2             136.41              PayPal          3.0   \n",
      "4         4             155.17       Cryptomonnaie          2.0   \n",
      "\n",
      "   Montant total (€)  \n",
      "0              82.40  \n",
      "1            1063.08  \n",
      "2            2247.30  \n",
      "3             272.82  \n",
      "4             620.68  \n",
      "<class 'pandas.core.frame.DataFrame'>\n",
      "RangeIndex: 10000 entries, 0 to 9999\n",
      "Data columns (total 11 columns):\n",
      " #   Column               Non-Null Count  Dtype         \n",
      "---  ------               --------------  -----         \n",
      " 0   Transaction ID       10000 non-null  object        \n",
      " 1   Date                 10000 non-null  datetime64[ns]\n",
      " 2   Client ID            10000 non-null  object        \n",
      " 3   Pays                 10000 non-null  object        \n",
      " 4   Catégorie            10000 non-null  object        \n",
      " 5   Marque               10000 non-null  object        \n",
      " 6   Quantité             10000 non-null  int64         \n",
      " 7   Prix unitaire (€)    10000 non-null  float64       \n",
      " 8   Méthode de paiement  10000 non-null  object        \n",
      " 9   Note client          9514 non-null   float64       \n",
      " 10  Montant total (€)    10000 non-null  float64       \n",
      "dtypes: datetime64[ns](1), float64(3), int64(1), object(6)\n",
      "memory usage: 859.5+ KB\n",
      "None\n"
     ]
    }
   ],
   "source": [
    "# 1. Charger les données dans un DataFrame Pandas et afficher un aperçu général du jeu de données.\n",
    "\n",
    "import pandas as pd\n",
    "\n",
    "# Charger le fichier Excel dans un DataFrame\n",
    "df = pd.read_excel('ecommerce_transactions.xlsx')\n",
    "\n",
    "# Afficher un aperçu général du jeu de données\n",
    "print(df.head())  # Affiche les 5 premières lignes\n",
    "print(df.info())  # Affiche des informations sur les colonnes, types et valeurs manquantes"
   ]
  },
  {
   "cell_type": "code",
   "execution_count": null,
   "id": "b4ab749e",
   "metadata": {},
   "outputs": [
    {
     "name": "stdout",
     "output_type": "stream",
     "text": [
      "Dimensions du DataFrame: (10000, 11)\n",
      "Types de chaque colonne:\n",
      "Transaction ID                 object\n",
      "Date                   datetime64[ns]\n",
      "Client ID                      object\n",
      "Pays                           object\n",
      "Catégorie                      object\n",
      "Marque                         object\n",
      "Quantité                        int64\n",
      "Prix unitaire (€)             float64\n",
      "Méthode de paiement            object\n",
      "Note client                   float64\n",
      "Montant total (€)             float64\n",
      "dtype: object\n"
     ]
    }
   ],
   "source": [
    "#2. Afficher les dimensions du DataFrame et le type de chaque colonne.\n",
    "\n",
    "import pandas as pd\n",
    "\n",
    "# Charger le fichier Excel dans un DataFrame\n",
    "df = pd.read_excel('ecommerce_transactions.xlsx')\n",
    "\n",
    "\n",
    "# Afficher les dimensions du DataFrame (nombre de lignes et de colonnes)\n",
    "print(f\"Dimensions du DataFrame: {df.shape}\")\n",
    "\n",
    "# Afficher le type de chaque colonne\n",
    "print(f\"Types de chaque colonne:\\n{df.dtypes}\")"
   ]
  },
  {
   "cell_type": "code",
   "execution_count": 12,
   "id": "d487f2fc",
   "metadata": {},
   "outputs": [
    {
     "name": "stdout",
     "output_type": "stream",
     "text": [
      "Colonnes avec des valeurs manquantes :\n",
      "Note client    486\n",
      "dtype: int64\n"
     ]
    }
   ],
   "source": [
    "# 3. Identifier les colonnes contenant des valeurs manquantes et proposer une stratégie adaptée pour\n",
    "# les traiter (ex : selon la catégorie ou la méthode de paiement).\n",
    "\n",
    "import pandas as pd\n",
    "\n",
    "# Charger le fichier Excel dans un DataFrame\n",
    "df = pd.read_excel('ecommerce_transactions.xlsx')\n",
    "\n",
    "\n",
    "# Identifier les colonnes contenant des valeurs manquantes et leur nombre\n",
    "missing_data = df.isnull().sum()\n",
    "\n",
    "# Afficher les colonnes avec des valeurs manquantes\n",
    "print(\"Colonnes avec des valeurs manquantes :\")\n",
    "print(missing_data[missing_data > 0])\n",
    "\n",
    "# Pour une colonne catégorielle (Méthode de paiement)\n",
    "df['Méthode de paiement'] = df['Méthode de paiement'].fillna(df['Méthode de paiement'].mode()[0])  # Remplacer par la modalité la plus fréquente\n",
    "\n",
    "# Pour une colonne numérique (Montant total (€)), en fonction du mode de paiement\n",
    "df['Montant total (€)'] = df.groupby('Méthode de paiement')['Montant total (€)'].transform(lambda x: x.fillna(x.mean()))  # Remplacer par la moyenne par mode de paiement\n",
    "\n",
    "# Pour une colonne numérique (Quantité), en fonction de la catégorie\n",
    "df['Quantité'] = df.groupby('Catégorie')['Quantité'].transform(lambda x: x.fillna(x.median()))  # Remplacer par la médiane par catégorie\n"
   ]
  },
  {
   "cell_type": "code",
   "execution_count": 15,
   "id": "78d528c6",
   "metadata": {},
   "outputs": [
    {
     "name": "stdout",
     "output_type": "stream",
     "text": [
      "(10000, 11)\n",
      "(28, 11)\n",
      "Fichier enregistré sous 'ecommerce_transactions_modifie.xlsx'\n"
     ]
    }
   ],
   "source": [
    "#4. Supprimer les doublons éventuels.\n",
    "\n",
    "import pandas as pd\n",
    "\n",
    "# Charger le fichier Excel dans un DataFrame\n",
    "df = pd.read_excel('ecommerce_transactions.xlsx')\n",
    "\n",
    "# Supprimer les doublons du DataFrame\n",
    "df = df.drop_duplicates()\n",
    "\n",
    "# Vérifier si les doublons ont bien été supprimés\n",
    "print(df.shape)  # Affiche le nombre de lignes et de colonnes après suppression des doublons\n",
    "\n",
    "# Supprimer les doublons basés sur les colonnes 'Méthode de paiement' et 'Catégorie'\n",
    "df = df.drop_duplicates(subset=['Méthode de paiement', 'Catégorie'])\n",
    "\n",
    "# Vérifier les dimensions après suppression\n",
    "print(df.shape)\n",
    "\n",
    "# enregistrer le fichier sans doublons\n",
    "df.to_excel('ecommerce_transactions_modifie.xlsx', index=False)\n",
    "\n",
    "print(\"Fichier enregistré sous 'ecommerce_transactions_modifie.xlsx'\")\n",
    "\n"
   ]
  },
  {
   "cell_type": "code",
   "execution_count": 17,
   "id": "d054bff0",
   "metadata": {},
   "outputs": [
    {
     "name": "stdout",
     "output_type": "stream",
     "text": [
      "                         Transaction ID       Date  \\\n",
      "0  b90c55bf-2a79-431c-bc11-c1b8e764f780 2024-03-27   \n",
      "1  d364d102-0604-4061-b0d2-aeb7d4495504 2024-05-31   \n",
      "2  cfbcc1ff-8eb9-4349-bfee-c845793aec38 2025-01-02   \n",
      "3  5fa27823-888d-42c4-b669-89339e2834fe 2024-08-01   \n",
      "4  ea5fe267-5877-4d3a-a8b5-a07a9659a673 2024-08-06   \n",
      "\n",
      "                              Client ID         Pays     Catégorie  Marque  \\\n",
      "0  2b9afa4c-e1ab-4d05-810c-e2342c26bffa       Gambia        Livres  accept   \n",
      "1  91acae16-626a-4082-8879-fbe94b170368   Madagascar        Maison   quite   \n",
      "2  009f5919-2d4f-4119-8a52-a624fe383028        Samoa     Vêtements   stock   \n",
      "3  2fb01dc7-37de-4c69-95ce-e3a4ee1e34b6  El Salvador  Électronique  garden   \n",
      "4  2e53eaca-a1d5-4eee-9819-3913d296bf01       Cyprus        Maison    song   \n",
      "\n",
      "   Quantité  Prix unitaire (€) Méthode de paiement  Note client  \\\n",
      "0         2              41.20              PayPal          4.0   \n",
      "1         3             354.36              PayPal          3.0   \n",
      "2         5             449.46       Cryptomonnaie          2.0   \n",
      "3         2             136.41              PayPal          3.0   \n",
      "4         4             155.17       Cryptomonnaie          2.0   \n",
      "\n",
      "   Montant total (€) Année-Mois  \n",
      "0              82.40    2024-03  \n",
      "1            1063.08    2024-05  \n",
      "2            2247.30    2025-01  \n",
      "3             272.82    2024-08  \n",
      "4             620.68    2024-08  \n"
     ]
    }
   ],
   "source": [
    "# 5. Créer une colonne ‘Année-Mois’ à partir de la colonne ‘Date’ pour faciliter l’analyse temporelle.\n",
    "\n",
    "import pandas as pd\n",
    "\n",
    "# Charger le fichier Excel dans un DataFrame\n",
    "df = pd.read_excel('ecommerce_transactions_modifie.xlsx')\n",
    "\n",
    "# Assurer que la colonne 'Date' est au format datetime\n",
    "df['Date'] = pd.to_datetime(df['Date'], errors='coerce')\n",
    "\n",
    "# Créer la nouvelle colonne 'Année-Mois'\n",
    "df['Année-Mois'] = df['Date'].dt.to_period('M')  # Format Année-Mois (ex: 2025-04)\n",
    "\n",
    "print(df.head())  # Affiche les 5 premières lignes\n",
    "\n",
    "# Enregistrer le DataFrame modifié dans un nouveau fichier Excel\n",
    "df.to_excel('ecommerce_transactions_modifie.xlsx', index=False)\n",
    "\n"
   ]
  },
  {
   "cell_type": "code",
   "execution_count": null,
   "id": "f208316d",
   "metadata": {},
   "outputs": [
    {
     "name": "stdout",
     "output_type": "stream",
     "text": [
      "Pays\n",
      "Samoa                        2247.30\n",
      "Bouvet Island (Bouvetoya)    1514.12\n",
      "Greece                       1449.84\n",
      "Jamaica                      1220.24\n",
      "Kenya                        1095.33\n",
      "Name: Montant total (€), dtype: float64\n"
     ]
    }
   ],
   "source": [
    "# 6. Afficher les 5 pays générant le plus de chiffre d’affaires total.\n",
    "\n",
    "import pandas as pd\n",
    "\n",
    "# Charger le fichier Excel dans un DataFrame\n",
    "df = pd.read_excel('ecommerce_transactions_modifie.xlsx')\n",
    "\n",
    "# Calculer le chiffre d'affaires total par pays\n",
    "chiffre_affaires_par_pays = df.groupby('Pays')['Montant total (€)'].sum()\n",
    "\n",
    "# Trier par chiffre d'affaires décroissant et sélectionner les 5 premiers\n",
    "top_5_pays = chiffre_affaires_par_pays.sort_values(ascending=False).head(5)\n",
    "\n",
    "# Afficher les résultats\n",
    "print(top_5_pays)\n",
    "\n",
    "# Enregistrer le DataFrame modifié dans un nouveau fichier Excel\n",
    "df.to_excel('ecommerce_transactions_modifie.xlsx', index=False)\n"
   ]
  },
  {
   "cell_type": "code",
   "execution_count": 19,
   "id": "ce4a5d5b",
   "metadata": {},
   "outputs": [
    {
     "name": "stdout",
     "output_type": "stream",
     "text": [
      "Catégorie\n",
      "Jouets          3892.00\n",
      "Vêtements       3434.91\n",
      "Sport           2358.94\n",
      "Électronique    2331.93\n",
      "Maison          1899.49\n",
      "Livres          1806.28\n",
      "Beauté          1317.09\n",
      "Name: Montant total (€), dtype: float64\n"
     ]
    }
   ],
   "source": [
    "# 7. Calculer le chiffre d’affaires total par catégorie de produits.\n",
    "\n",
    "import pandas as pd\n",
    "\n",
    "# Charger le fichier modifié\n",
    "df = pd.read_excel('ecommerce_transactions_modifie.xlsx')\n",
    "\n",
    "# Calculer le chiffre d'affaires total par catégorie\n",
    "chiffre_affaires_par_categorie = df.groupby('Catégorie')['Montant total (€)'].sum()\n",
    "\n",
    "# Trier par chiffre d'affaires décroissant\n",
    "chiffre_affaires_par_categorie = chiffre_affaires_par_categorie.sort_values(ascending=False)\n",
    "\n",
    "# Afficher les résultats\n",
    "print(chiffre_affaires_par_categorie)\n",
    "\n",
    "# Enregistrer le DataFrame modifié dans un nouveau fichier Excel\n",
    "df.to_excel('ecommerce_transactions_modifie.xlsx', index=False)\n"
   ]
  },
  {
   "cell_type": "code",
   "execution_count": null,
   "id": "c5a22f91",
   "metadata": {},
   "outputs": [
    {
     "name": "stdout",
     "output_type": "stream",
     "text": [
      "Catégorie     Marque  \n",
      "Jouets        success     5\n",
      "Vêtements     stock       5\n",
      "              during      5\n",
      "Sport         baby        5\n",
      "Maison        song        4\n",
      "Beauté        arrive      4\n",
      "Électronique  rise        4\n",
      "Sport         just        4\n",
      "Jouets        run         4\n",
      "Livres        mean        4\n",
      "              approach    3\n",
      "Jouets        effect      3\n",
      "Électronique  assume      3\n",
      "Maison        forget      3\n",
      "              quite       3\n",
      "Électronique  garden      2\n",
      "Jouets        outside     2\n",
      "Livres        accept      2\n",
      "Sport         resource    2\n",
      "Vêtements     spend       2\n",
      "Électronique  several     2\n",
      "Beauté        eat         1\n",
      "              page        1\n",
      "              wife        1\n",
      "Livres        seven       1\n",
      "Maison        its         1\n",
      "Sport         same        1\n",
      "Vêtements     easy        1\n",
      "Name: Quantité, dtype: int64\n"
     ]
    }
   ],
   "source": [
    "# 8. Identifier les marques les plus vendus (en quantité) dans chaque catégorie.\n",
    "\n",
    "import pandas as pd\n",
    "\n",
    "# Charger le fichier modifié\n",
    "df = pd.read_excel('ecommerce_transactions_modifie.xlsx')\n",
    "\n",
    "# Calculer la quantité totale vendue par marque dans chaque catégorie\n",
    "marques_par_categorie = df.groupby(['Catégorie', 'Marque'])['Quantité'].sum()\n",
    "\n",
    "# Trier par catégorie et quantité vendue, puis afficher les marques les plus vendues dans chaque catégorie\n",
    "marques_par_categorie = marques_par_categorie.sort_values(ascending=False)\n",
    "\n",
    "# Enregistrer le DataFrame modifié dans un nouveau fichier Excel\n",
    "df.to_excel('ecommerce_transactions_modifie.xlsx', index=False)\n",
    "\n",
    "# Afficher les résultats\n",
    "print(marques_par_categorie)\n"
   ]
  },
  {
   "cell_type": "code",
   "execution_count": 21,
   "id": "391b517c",
   "metadata": {},
   "outputs": [
    {
     "name": "stdout",
     "output_type": "stream",
     "text": [
      "Pays                              Méthode de paiement\n",
      "Argentina                         Cryptomonnaie          1\n",
      "Bangladesh                        Cryptomonnaie          1\n",
      "Bouvet Island (Bouvetoya)         Carte bancaire         1\n",
      "Bulgaria                          Cryptomonnaie          1\n",
      "Cayman Islands                    PayPal                 1\n",
      "Cuba                              Virement               1\n",
      "Cyprus                            Cryptomonnaie          1\n",
      "Ecuador                           Virement               1\n",
      "El Salvador                       PayPal                 1\n",
      "Fiji                              Carte bancaire         1\n",
      "Gambia                            PayPal                 1\n",
      "Greece                            Cryptomonnaie          1\n",
      "Greenland                         Virement               1\n",
      "Jamaica                           Carte bancaire         1\n",
      "Kenya                             Carte bancaire         1\n",
      "Madagascar                        PayPal                 1\n",
      "Pakistan                          PayPal                 1\n",
      "Papua New Guinea                  PayPal                 1\n",
      "Peru                              Virement               1\n",
      "Saint Vincent and the Grenadines  Carte bancaire         1\n",
      "Samoa                             Cryptomonnaie          1\n",
      "Seychelles                        PayPal                 1\n",
      "Suriname                          Cryptomonnaie          1\n",
      "                                  Virement               1\n",
      "Timor-Leste                       Carte bancaire         1\n",
      "Tokelau                           Carte bancaire         1\n",
      "Turks and Caicos Islands          Virement               1\n",
      "Uganda                            Virement               1\n",
      "dtype: int64\n"
     ]
    }
   ],
   "source": [
    "# 9. Afficher les méthodes de paiement les plus utilisées par pays.\n",
    "\n",
    "import pandas as pd\n",
    "\n",
    "# Charger le fichier modifié\n",
    "df = pd.read_excel('ecommerce_transactions_modifie.xlsx')\n",
    "\n",
    "# Calculer la fréquence des méthodes de paiement par pays\n",
    "methodes_paiement_par_pays = df.groupby(['Pays', 'Méthode de paiement']).size()\n",
    "\n",
    "# Trier les résultats par pays et fréquence décroissante\n",
    "methodes_paiement_par_pays = methodes_paiement_par_pays.sort_values(ascending=False)\n",
    "\n",
    "# Afficher les résultats\n",
    "print(methodes_paiement_par_pays)\n"
   ]
  },
  {
   "cell_type": "code",
   "execution_count": 45,
   "id": "f65e7d3f",
   "metadata": {},
   "outputs": [
    {
     "name": "stdout",
     "output_type": "stream",
     "text": [
      "[\"'Transaction ID'\", \"'Date'\", \"'Client ID'\", \"'Pays'\", \"'Catégorie'\", \"'Marque'\", \"'Quantité'\", \"'Prix unitaire (€)'\", \"'Méthode de paiement'\", \"'Note client'\", \"'Montant total (€)'\", \"'Année-Mois'\", \"'Client fidèle'\"]\n",
      "[\"'Transaction ID'\", \"'Date'\", \"'Client ID'\", \"'Pays'\", \"'Catégorie'\", \"'Marque'\", \"'Quantité'\", \"'Prix unitaire (€)'\", \"'Méthode de paiement'\", \"'Note client'\", \"'Montant total (€)'\", \"'Année-Mois'\", \"'Client fidèle'\"]\n"
     ]
    },
    {
     "ename": "KeyError",
     "evalue": "' Client ID'",
     "output_type": "error",
     "traceback": [
      "\u001b[0;31m---------------------------------------------------------------------------\u001b[0m",
      "\u001b[0;31mKeyError\u001b[0m                                  Traceback (most recent call last)",
      "Cell \u001b[0;32mIn[45], line 18\u001b[0m\n\u001b[1;32m     15\u001b[0m \u001b[38;5;28mprint\u001b[39m([\u001b[38;5;28mrepr\u001b[39m(col) \u001b[38;5;28;01mfor\u001b[39;00m col \u001b[38;5;129;01min\u001b[39;00m df\u001b[38;5;241m.\u001b[39mcolumns])\n\u001b[1;32m     17\u001b[0m \u001b[38;5;66;03m# Calculer la dépense totale par client\u001b[39;00m\n\u001b[0;32m---> 18\u001b[0m depense_par_client \u001b[38;5;241m=\u001b[39m \u001b[43mdf\u001b[49m\u001b[38;5;241;43m.\u001b[39;49m\u001b[43mgroupby\u001b[49m\u001b[43m(\u001b[49m\u001b[38;5;124;43m'\u001b[39;49m\u001b[38;5;124;43m Client ID\u001b[39;49m\u001b[38;5;124;43m'\u001b[39;49m\u001b[43m)\u001b[49m[\u001b[38;5;124m'\u001b[39m\u001b[38;5;124mMontant total (€)\u001b[39m\u001b[38;5;124m'\u001b[39m]\u001b[38;5;241m.\u001b[39msum()\n\u001b[1;32m     20\u001b[0m \u001b[38;5;66;03m# Calculer la dépense moyenne par client\u001b[39;00m\n\u001b[1;32m     21\u001b[0m depense_moyenne_par_client \u001b[38;5;241m=\u001b[39m depense_par_client\u001b[38;5;241m.\u001b[39mmean()\n",
      "File \u001b[0;32m~/logiciels/miniconda/envs/tpemployes/lib/python3.9/site-packages/pandas/core/frame.py:9183\u001b[0m, in \u001b[0;36mDataFrame.groupby\u001b[0;34m(self, by, axis, level, as_index, sort, group_keys, observed, dropna)\u001b[0m\n\u001b[1;32m   9180\u001b[0m \u001b[38;5;28;01mif\u001b[39;00m level \u001b[38;5;129;01mis\u001b[39;00m \u001b[38;5;28;01mNone\u001b[39;00m \u001b[38;5;129;01mand\u001b[39;00m by \u001b[38;5;129;01mis\u001b[39;00m \u001b[38;5;28;01mNone\u001b[39;00m:\n\u001b[1;32m   9181\u001b[0m     \u001b[38;5;28;01mraise\u001b[39;00m \u001b[38;5;167;01mTypeError\u001b[39;00m(\u001b[38;5;124m\"\u001b[39m\u001b[38;5;124mYou have to supply one of \u001b[39m\u001b[38;5;124m'\u001b[39m\u001b[38;5;124mby\u001b[39m\u001b[38;5;124m'\u001b[39m\u001b[38;5;124m and \u001b[39m\u001b[38;5;124m'\u001b[39m\u001b[38;5;124mlevel\u001b[39m\u001b[38;5;124m'\u001b[39m\u001b[38;5;124m\"\u001b[39m)\n\u001b[0;32m-> 9183\u001b[0m \u001b[38;5;28;01mreturn\u001b[39;00m \u001b[43mDataFrameGroupBy\u001b[49m\u001b[43m(\u001b[49m\n\u001b[1;32m   9184\u001b[0m \u001b[43m    \u001b[49m\u001b[43mobj\u001b[49m\u001b[38;5;241;43m=\u001b[39;49m\u001b[38;5;28;43mself\u001b[39;49m\u001b[43m,\u001b[49m\n\u001b[1;32m   9185\u001b[0m \u001b[43m    \u001b[49m\u001b[43mkeys\u001b[49m\u001b[38;5;241;43m=\u001b[39;49m\u001b[43mby\u001b[49m\u001b[43m,\u001b[49m\n\u001b[1;32m   9186\u001b[0m \u001b[43m    \u001b[49m\u001b[43maxis\u001b[49m\u001b[38;5;241;43m=\u001b[39;49m\u001b[43maxis\u001b[49m\u001b[43m,\u001b[49m\n\u001b[1;32m   9187\u001b[0m \u001b[43m    \u001b[49m\u001b[43mlevel\u001b[49m\u001b[38;5;241;43m=\u001b[39;49m\u001b[43mlevel\u001b[49m\u001b[43m,\u001b[49m\n\u001b[1;32m   9188\u001b[0m \u001b[43m    \u001b[49m\u001b[43mas_index\u001b[49m\u001b[38;5;241;43m=\u001b[39;49m\u001b[43mas_index\u001b[49m\u001b[43m,\u001b[49m\n\u001b[1;32m   9189\u001b[0m \u001b[43m    \u001b[49m\u001b[43msort\u001b[49m\u001b[38;5;241;43m=\u001b[39;49m\u001b[43msort\u001b[49m\u001b[43m,\u001b[49m\n\u001b[1;32m   9190\u001b[0m \u001b[43m    \u001b[49m\u001b[43mgroup_keys\u001b[49m\u001b[38;5;241;43m=\u001b[39;49m\u001b[43mgroup_keys\u001b[49m\u001b[43m,\u001b[49m\n\u001b[1;32m   9191\u001b[0m \u001b[43m    \u001b[49m\u001b[43mobserved\u001b[49m\u001b[38;5;241;43m=\u001b[39;49m\u001b[43mobserved\u001b[49m\u001b[43m,\u001b[49m\n\u001b[1;32m   9192\u001b[0m \u001b[43m    \u001b[49m\u001b[43mdropna\u001b[49m\u001b[38;5;241;43m=\u001b[39;49m\u001b[43mdropna\u001b[49m\u001b[43m,\u001b[49m\n\u001b[1;32m   9193\u001b[0m \u001b[43m\u001b[49m\u001b[43m)\u001b[49m\n",
      "File \u001b[0;32m~/logiciels/miniconda/envs/tpemployes/lib/python3.9/site-packages/pandas/core/groupby/groupby.py:1329\u001b[0m, in \u001b[0;36mGroupBy.__init__\u001b[0;34m(self, obj, keys, axis, level, grouper, exclusions, selection, as_index, sort, group_keys, observed, dropna)\u001b[0m\n\u001b[1;32m   1326\u001b[0m \u001b[38;5;28mself\u001b[39m\u001b[38;5;241m.\u001b[39mdropna \u001b[38;5;241m=\u001b[39m dropna\n\u001b[1;32m   1328\u001b[0m \u001b[38;5;28;01mif\u001b[39;00m grouper \u001b[38;5;129;01mis\u001b[39;00m \u001b[38;5;28;01mNone\u001b[39;00m:\n\u001b[0;32m-> 1329\u001b[0m     grouper, exclusions, obj \u001b[38;5;241m=\u001b[39m \u001b[43mget_grouper\u001b[49m\u001b[43m(\u001b[49m\n\u001b[1;32m   1330\u001b[0m \u001b[43m        \u001b[49m\u001b[43mobj\u001b[49m\u001b[43m,\u001b[49m\n\u001b[1;32m   1331\u001b[0m \u001b[43m        \u001b[49m\u001b[43mkeys\u001b[49m\u001b[43m,\u001b[49m\n\u001b[1;32m   1332\u001b[0m \u001b[43m        \u001b[49m\u001b[43maxis\u001b[49m\u001b[38;5;241;43m=\u001b[39;49m\u001b[43maxis\u001b[49m\u001b[43m,\u001b[49m\n\u001b[1;32m   1333\u001b[0m \u001b[43m        \u001b[49m\u001b[43mlevel\u001b[49m\u001b[38;5;241;43m=\u001b[39;49m\u001b[43mlevel\u001b[49m\u001b[43m,\u001b[49m\n\u001b[1;32m   1334\u001b[0m \u001b[43m        \u001b[49m\u001b[43msort\u001b[49m\u001b[38;5;241;43m=\u001b[39;49m\u001b[43msort\u001b[49m\u001b[43m,\u001b[49m\n\u001b[1;32m   1335\u001b[0m \u001b[43m        \u001b[49m\u001b[43mobserved\u001b[49m\u001b[38;5;241;43m=\u001b[39;49m\u001b[38;5;28;43;01mFalse\u001b[39;49;00m\u001b[43m \u001b[49m\u001b[38;5;28;43;01mif\u001b[39;49;00m\u001b[43m \u001b[49m\u001b[43mobserved\u001b[49m\u001b[43m \u001b[49m\u001b[38;5;129;43;01mis\u001b[39;49;00m\u001b[43m \u001b[49m\u001b[43mlib\u001b[49m\u001b[38;5;241;43m.\u001b[39;49m\u001b[43mno_default\u001b[49m\u001b[43m \u001b[49m\u001b[38;5;28;43;01melse\u001b[39;49;00m\u001b[43m \u001b[49m\u001b[43mobserved\u001b[49m\u001b[43m,\u001b[49m\n\u001b[1;32m   1336\u001b[0m \u001b[43m        \u001b[49m\u001b[43mdropna\u001b[49m\u001b[38;5;241;43m=\u001b[39;49m\u001b[38;5;28;43mself\u001b[39;49m\u001b[38;5;241;43m.\u001b[39;49m\u001b[43mdropna\u001b[49m\u001b[43m,\u001b[49m\n\u001b[1;32m   1337\u001b[0m \u001b[43m    \u001b[49m\u001b[43m)\u001b[49m\n\u001b[1;32m   1339\u001b[0m \u001b[38;5;28;01mif\u001b[39;00m observed \u001b[38;5;129;01mis\u001b[39;00m lib\u001b[38;5;241m.\u001b[39mno_default:\n\u001b[1;32m   1340\u001b[0m     \u001b[38;5;28;01mif\u001b[39;00m \u001b[38;5;28many\u001b[39m(ping\u001b[38;5;241m.\u001b[39m_passed_categorical \u001b[38;5;28;01mfor\u001b[39;00m ping \u001b[38;5;129;01min\u001b[39;00m grouper\u001b[38;5;241m.\u001b[39mgroupings):\n",
      "File \u001b[0;32m~/logiciels/miniconda/envs/tpemployes/lib/python3.9/site-packages/pandas/core/groupby/grouper.py:1043\u001b[0m, in \u001b[0;36mget_grouper\u001b[0;34m(obj, key, axis, level, sort, observed, validate, dropna)\u001b[0m\n\u001b[1;32m   1041\u001b[0m         in_axis, level, gpr \u001b[38;5;241m=\u001b[39m \u001b[38;5;28;01mFalse\u001b[39;00m, gpr, \u001b[38;5;28;01mNone\u001b[39;00m\n\u001b[1;32m   1042\u001b[0m     \u001b[38;5;28;01melse\u001b[39;00m:\n\u001b[0;32m-> 1043\u001b[0m         \u001b[38;5;28;01mraise\u001b[39;00m \u001b[38;5;167;01mKeyError\u001b[39;00m(gpr)\n\u001b[1;32m   1044\u001b[0m \u001b[38;5;28;01melif\u001b[39;00m \u001b[38;5;28misinstance\u001b[39m(gpr, Grouper) \u001b[38;5;129;01mand\u001b[39;00m gpr\u001b[38;5;241m.\u001b[39mkey \u001b[38;5;129;01mis\u001b[39;00m \u001b[38;5;129;01mnot\u001b[39;00m \u001b[38;5;28;01mNone\u001b[39;00m:\n\u001b[1;32m   1045\u001b[0m     \u001b[38;5;66;03m# Add key to exclusions\u001b[39;00m\n\u001b[1;32m   1046\u001b[0m     exclusions\u001b[38;5;241m.\u001b[39madd(gpr\u001b[38;5;241m.\u001b[39mkey)\n",
      "\u001b[0;31mKeyError\u001b[0m: ' Client ID'"
     ]
    }
   ],
   "source": [
    "# 10. Déterminer la dépense moyenne par client et afficher les 10 plus gros clients.\n",
    "\n",
    "import pandas as pd\n",
    "\n",
    "# Charger le fichier modifié\n",
    "df = pd.read_excel('ecommerce_transactions_modifie.xlsx')\n",
    "\n",
    "# Afficher les noms de colonnes sous forme de liste (avec représentation des espaces invisibles)\n",
    "print([repr(col) for col in df.columns])\n",
    "\n",
    "# Nettoyer les noms de colonnes\n",
    "df.columns = df.columns.str.replace(r'\\s+', ' ', regex=True).str.strip()\n",
    "\n",
    "# Vérifier après nettoyage\n",
    "print([repr(col) for col in df.columns])\n",
    "\n",
    "# Calculer la dépense totale par client\n",
    "depense_par_client = df.groupby(' Client ID')['Montant total (€)'].sum()\n",
    "\n",
    "# Calculer la dépense moyenne par client\n",
    "depense_moyenne_par_client = depense_par_client.mean()\n",
    "\n",
    "# Afficher la dépense moyenne par client\n",
    "print(f\"Dépense moyenne par Client ID : {depense_moyenne_par_client:.2f} €\")\n",
    "\n",
    "# Trier les clients par dépense totale (du plus gros au plus petit)\n",
    "top_10_clients = depense_par_client.sort_values(ascending=False).head(10)\n",
    "\n",
    "# Afficher les 10 plus gros clients\n",
    "print(\"Les 10 plus gros clients par dépense totale :\")\n",
    "print(top_10_clients)\n"
   ]
  },
  {
   "cell_type": "code",
   "execution_count": 46,
   "id": "e38db1e1",
   "metadata": {},
   "outputs": [
    {
     "name": "stdout",
     "output_type": "stream",
     "text": [
      "  Catégorie  Marque      Pays  Note client\n",
      "0    Beauté  arrive  Bulgaria          NaN\n"
     ]
    }
   ],
   "source": [
    "# 11. Calculer la note moyenne par catégorie de marque et par pays.\n",
    "\n",
    "import pandas as pd\n",
    "\n",
    "# Charger le fichier modifié\n",
    "df = pd.read_excel(\"ecommerce_transactions_modifie.xlsx\")\n",
    "\n",
    "# Vérifier les colonnes pour éviter les erreurs liées aux espaces\n",
    "df.columns = df.columns.str.replace(r'\\s+', ' ', regex=True).str.strip()\n",
    "\n",
    "# Calculer la note moyenne par Catégorie, Marque et Pays\n",
    "note_moyenne = df.groupby(['Catégorie', 'Marque', 'Pays'])['Note client'].mean().reset_index()\n",
    "\n",
    "# Afficher les résultats\n",
    "print(note_moyenne)\n",
    "\n",
    "#Sauvegarder le résultat dans un fichier Excel\n",
    "note_moyenne.to_excel(\"ecommerce_transactions_modifie.xlsx\", index=False)\n",
    "\n",
    "\n",
    "\n",
    "\n"
   ]
  },
  {
   "cell_type": "code",
   "execution_count": 47,
   "id": "860a09f5",
   "metadata": {},
   "outputs": [
    {
     "name": "stdout",
     "output_type": "stream",
     "text": [
      "Nombre total de commandes avec une note manquante : 1\n",
      "\n",
      "Répartition des commandes sans note par catégorie :\n",
      "Catégorie\n",
      "Beauté    1\n",
      "Name: count, dtype: int64\n",
      "\n",
      "Répartition des commandes sans note par pays :\n",
      "Pays\n",
      "Bulgaria    1\n",
      "Name: count, dtype: int64\n"
     ]
    }
   ],
   "source": [
    "# 12. Identifier les commandes avec une note manquante et déterminer s’il existe un schéma selon la\n",
    "# catégorie ou le pays.\n",
    "\n",
    "import pandas as pd\n",
    "\n",
    "# Charger le fichier modifié\n",
    "df = pd.read_excel(\"ecommerce_transactions_modifie.xlsx\")\n",
    "\n",
    "# Vérifier et nettoyer les noms de colonnes\n",
    "df.columns = df.columns.str.replace(r'\\s+', ' ', regex=True).str.strip()\n",
    "\n",
    "# Identifier les commandes avec une note manquante\n",
    "commandes_sans_note = df[df['Note client'].isna()]\n",
    "\n",
    "# Afficher le nombre total de commandes sans note\n",
    "print(f\"Nombre total de commandes avec une note manquante : {commandes_sans_note.shape[0]}\")\n",
    "\n",
    "# Vérifier la répartition par catégorie\n",
    "categories_impactees = commandes_sans_note['Catégorie'].value_counts()\n",
    "print(\"\\nRépartition des commandes sans note par catégorie :\")\n",
    "print(categories_impactees)\n",
    "\n",
    "# Vérifier la répartition par pays\n",
    "pays_impactes = commandes_sans_note['Pays'].value_counts()\n",
    "print(\"\\nRépartition des commandes sans note par pays :\")\n",
    "print(pays_impactes)\n",
    "\n",
    "# Optionnel : Sauvegarder les résultats dans un fichier Excel\n",
    "commandes_sans_note.to_excel(\"ecommerce_transactions_modifie.xlsx\", index=False)\n"
   ]
  },
  {
   "cell_type": "code",
   "execution_count": 42,
   "id": "b76313b4",
   "metadata": {},
   "outputs": [
    {
     "name": "stdout",
     "output_type": "stream",
     "text": [
      "📊 Statistiques sur les montants totaux :\n",
      "Moyenne            : 229.48 €\n",
      "Médiane            : 229.48 €\n",
      "Écart-type         : 0.00 €\n",
      "25e percentile     : 229.48 €\n",
      "50e percentile     : 229.48 €\n",
      "75e percentile     : 229.48 €\n"
     ]
    }
   ],
   "source": [
    "# 13. Utiliser NumPy pour calculer la moyenne, la médiane, l’écart-type et les percentiles des\n",
    "# montants totaux.\n",
    "\n",
    "import pandas as pd\n",
    "import numpy as np\n",
    "\n",
    "# Charger le fichier modifié\n",
    "df = pd.read_excel(\"ecommerce_transactions_modifie.xlsx\")\n",
    "\n",
    "# Nettoyer les noms de colonnes (au cas où il y a des espaces)\n",
    "df.columns = df.columns.str.replace(r'\\s+', ' ', regex=True).str.strip()\n",
    "\n",
    "# Extraire les montants totaux (en retirant les NaN si jamais il y en a)\n",
    "montants = df['Montant total (€)'].dropna()\n",
    "\n",
    "# Calculs statistiques avec NumPy\n",
    "moyenne = np.mean(montants)\n",
    "mediane = np.median(montants)\n",
    "ecart_type = np.std(montants)\n",
    "percentile_25 = np.percentile(montants, 25)\n",
    "percentile_50 = np.percentile(montants, 50)  # équivalent à la médiane\n",
    "percentile_75 = np.percentile(montants, 75)\n",
    "\n",
    "# Affichage des résultats\n",
    "print(f\"📊 Statistiques sur les montants totaux :\")\n",
    "print(f\"Moyenne            : {moyenne:.2f} €\")\n",
    "print(f\"Médiane            : {mediane:.2f} €\")\n",
    "print(f\"Écart-type         : {ecart_type:.2f} €\")\n",
    "print(f\"25e percentile     : {percentile_25:.2f} €\")\n",
    "print(f\"50e percentile     : {percentile_50:.2f} €\")\n",
    "print(f\"75e percentile     : {percentile_75:.2f} €\")\n",
    "\n",
    "\n"
   ]
  },
  {
   "cell_type": "code",
   "execution_count": 40,
   "id": "3c1d52b1",
   "metadata": {},
   "outputs": [
    {
     "name": "stdout",
     "output_type": "stream",
     "text": [
      "                              Client ID  Client fidèle\n",
      "0  55e777e1-0fdf-4ae3-8518-9b50a8c03741          False\n"
     ]
    }
   ],
   "source": [
    "# 14. Créer une colonne ‘Client fidèle’ : True si le client a effectué plus de 5 commandes.\n",
    "\n",
    "import pandas as pd\n",
    "\n",
    "# Charger le fichier Excel\n",
    "df = pd.read_excel(\"ecommerce_transactions_modifie.xlsx\")\n",
    "\n",
    "# Nettoyer les noms de colonnes\n",
    "df.columns = df.columns.str.replace(r'\\s+', ' ', regex=True).str.strip()\n",
    "\n",
    "# Compter le nombre de commandes par client\n",
    "commandes_par_client = df['Client ID'].value_counts()\n",
    "\n",
    "# Créer une colonne \"Client fidèle\" : True si le client a fait plus de 5 commandes\n",
    "df['Client fidèle'] = df['Client ID'].apply(lambda x: commandes_par_client[x] > 5)\n",
    "\n",
    "# Aperçu\n",
    "print(df[['Client ID', 'Client fidèle']].head())\n",
    "\n",
    "# Enregistrer dans un nouveau fichier Excel\n",
    "df.to_excel(\"ecommerce_transactions_modifie_client_fidele.xlsx\", index=False)\n",
    "\n",
    "\n"
   ]
  },
  {
   "cell_type": "code",
   "execution_count": 43,
   "id": "275adec6",
   "metadata": {},
   "outputs": [
    {
     "name": "stdout",
     "output_type": "stream",
     "text": [
      "['2024-06']\n"
     ]
    },
    {
     "data": {
      "image/png": "[encoded data removed]",
      "text/plain": [
       "<Figure size 1200x600 with 1 Axes>"
      ]
     },
     "metadata": {},
     "output_type": "display_data"
    }
   ],
   "source": [
    "\n",
    "# 15. Créer un graphique à barres montrant le chiffre d’affaires mensuel total.\n",
    "\n",
    "import pandas as pd\n",
    "import matplotlib.pyplot as plt\n",
    "\n",
    "# Charger le fichier Excel\n",
    "df = pd.read_excel(\"ecommerce_transactions_modifie.xlsx\")\n",
    "\n",
    "print(df['Année-Mois'].unique())  # Vérifier les valeurs distinctes\n",
    "\n",
    "\n",
    "# Vérifier que la colonne \"Année-Mois\" est bien formatée\n",
    "df['Année-Mois'] = df['Année-Mois'].astype(str)\n",
    "\n",
    "# Calculer le chiffre d'affaires total par mois\n",
    "chiffre_affaires_mensuel = df.groupby('Année-Mois')['Montant total (€)'].sum()\n",
    "\n",
    "# Trier les mois pour un affichage chronologique\n",
    "chiffre_affaires_mensuel = chiffre_affaires_mensuel.sort_index()\n",
    "\n",
    "# Création du graphique\n",
    "plt.figure(figsize=(12,6))\n",
    "plt.bar(chiffre_affaires_mensuel.index, chiffre_affaires_mensuel, color='skyblue')\n",
    "\n",
    "# Ajouter les titres et labels\n",
    "plt.xlabel(\"Année-Mois\")\n",
    "plt.ylabel(\"Chiffre d'affaires (€)\")\n",
    "plt.title(\"Chiffre d'affaires mensuel total\")\n",
    "plt.xticks(rotation=45)\n",
    "\n",
    "# Afficher le graphique\n",
    "plt.show()"
   ]
  },
  {
   "cell_type": "code",
   "execution_count": null,
   "id": "afa4fff8",
   "metadata": {},
   "outputs": [],
   "source": []
  },
  {
   "cell_type": "code",
   "execution_count": null,
   "id": "1b37e53a",
   "metadata": {},
   "outputs": [],
   "source": []
  },
  {
   "cell_type": "code",
   "execution_count": null,
   "id": "fd32ba8e",
   "metadata": {},
   "outputs": [],
   "source": []
  },
  {
   "cell_type": "code",
   "execution_count": null,
   "id": "f1cc8d7f",
   "metadata": {},
   "outputs": [],
   "source": []
  },
  {
   "cell_type": "code",
   "execution_count": null,
   "id": "7bbbaac1",
   "metadata": {},
   "outputs": [],
   "source": []
  },
  {
   "cell_type": "code",
   "execution_count": null,
   "id": "1d61f523",
   "metadata": {},
   "outputs": [],
   "source": []
  },
  {
   "cell_type": "code",
   "execution_count": null,
   "id": "d2d67147",
   "metadata": {},
   "outputs": [],
   "source": []
  },
  {
   "cell_type": "code",
   "execution_count": null,
   "id": "d5d27ee1",
   "metadata": {},
   "outputs": [],
   "source": []
  }
 ],
 "metadata": {
  "kernelspec": {
   "display_name": "tpemployes",
   "language": "python",
   "name": "python3"
  },
  "language_info": {
   "codemirror_mode": {
    "name": "ipython",
    "version": 3
   },
   "file_extension": ".py",
   "mimetype": "text/x-python",
   "name": "python",
   "nbconvert_exporter": "python",
   "pygments_lexer": "ipython3",
   "version": "3.9.21"
  }
 },
 "nbformat": 4,
 "nbformat_minor": 5
}
